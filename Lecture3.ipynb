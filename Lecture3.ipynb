{
 "metadata": {
  "name": "",
  "signature": "sha256:57c2a0c23c679115f31e72e807d4c0ea0137d81ab0c690a116e237030864cf03"
 },
 "nbformat": 3,
 "nbformat_minor": 0,
 "worksheets": [
  {
   "cells": [
    {
     "cell_type": "code",
     "collapsed": false,
     "input": [
      "%matplotlib inline"
     ],
     "language": "python",
     "metadata": {},
     "outputs": [],
     "prompt_number": 2
    },
    {
     "cell_type": "heading",
     "level": 1,
     "metadata": {},
     "source": [
      "Recap of lists, dictionaries, plotting"
     ]
    },
    {
     "cell_type": "code",
     "collapsed": false,
     "input": [],
     "language": "python",
     "metadata": {},
     "outputs": [],
     "prompt_number": 2
    },
    {
     "cell_type": "heading",
     "level": 1,
     "metadata": {},
     "source": [
      "Lecture 3: Linear algebra, class test and assignment"
     ]
    },
    {
     "cell_type": "markdown",
     "metadata": {},
     "source": [
      "We are going to wrap up the programming content of this course with some linear algebra. Note that this content will NOT appear in your class test. "
     ]
    },
    {
     "cell_type": "markdown",
     "metadata": {},
     "source": [
      "For later courses e.g. finite element method, dynamics you will encounter problems where you need to use linear algebra to solve a certain problem. This lecture will outline the very basics for solving problems using the numpy and scipy libraries with Python. Other courses may use Matlab, but the syntax is very similar."
     ]
    },
    {
     "cell_type": "heading",
     "level": 2,
     "metadata": {},
     "source": [
      "Matrix algebra with numpy and scipy"
     ]
    },
    {
     "cell_type": "code",
     "collapsed": false,
     "input": [
      "import numpy as np # let's import the numpy library\n",
      "import math # and the math libary\n",
      "import matplotlib.pyplot as plt"
     ],
     "language": "python",
     "metadata": {},
     "outputs": [],
     "prompt_number": 3
    },
    {
     "cell_type": "heading",
     "level": 3,
     "metadata": {},
     "source": [
      "Creating a matrix"
     ]
    },
    {
     "cell_type": "markdown",
     "metadata": {},
     "source": [
      "This is done as follows. E.g. to create a 3x3 matrix:"
     ]
    },
    {
     "cell_type": "code",
     "collapsed": false,
     "input": [
      "A = np.matrix([[1,2,3],\n",
      "              [2,5,7],\n",
      "              [4,8,15]])\n",
      "print A"
     ],
     "language": "python",
     "metadata": {},
     "outputs": [
      {
       "output_type": "stream",
       "stream": "stdout",
       "text": [
        "[[ 1  2  3]\n",
        " [ 2  5  7]\n",
        " [ 4  8 15]]\n"
       ]
      }
     ],
     "prompt_number": 4
    },
    {
     "cell_type": "markdown",
     "metadata": {},
     "source": [
      "We can easily create an identity matrix as:"
     ]
    },
    {
     "cell_type": "code",
     "collapsed": false,
     "input": [
      "I = np.eye(5)\n",
      "print I"
     ],
     "language": "python",
     "metadata": {},
     "outputs": [
      {
       "output_type": "stream",
       "stream": "stdout",
       "text": [
        "[[ 1.  0.  0.  0.  0.]\n",
        " [ 0.  1.  0.  0.  0.]\n",
        " [ 0.  0.  1.  0.  0.]\n",
        " [ 0.  0.  0.  1.  0.]\n",
        " [ 0.  0.  0.  0.  1.]]\n"
       ]
      }
     ],
     "prompt_number": 5
    },
    {
     "cell_type": "heading",
     "level": 3,
     "metadata": {},
     "source": [
      "Creating a vector"
     ]
    },
    {
     "cell_type": "markdown",
     "metadata": {},
     "source": [
      "This is simply a matrix with one column and can be created as follows:"
     ]
    },
    {
     "cell_type": "code",
     "collapsed": false,
     "input": [
      "b = np.matrix([[3],\n",
      "               [5],\n",
      "               [8]])\n",
      "print b"
     ],
     "language": "python",
     "metadata": {},
     "outputs": [
      {
       "output_type": "stream",
       "stream": "stdout",
       "text": [
        "[[3]\n",
        " [5]\n",
        " [8]]\n"
       ]
      }
     ],
     "prompt_number": 6
    },
    {
     "cell_type": "markdown",
     "metadata": {},
     "source": [
      "We can easily create a vector of ones as :"
     ]
    },
    {
     "cell_type": "code",
     "collapsed": false,
     "input": [
      "v = np.ones((3,1)) # create a vector with 3 rows of ones.\n",
      "print v"
     ],
     "language": "python",
     "metadata": {},
     "outputs": [
      {
       "output_type": "stream",
       "stream": "stdout",
       "text": [
        "[[ 1.]\n",
        " [ 1.]\n",
        " [ 1.]]\n"
       ]
      }
     ],
     "prompt_number": 7
    },
    {
     "cell_type": "heading",
     "level": 3,
     "metadata": {},
     "source": [
      "Access elements of a matrix/vector"
     ]
    },
    {
     "cell_type": "markdown",
     "metadata": {},
     "source": [
      "To change invidual values we do this simply as e.g.:"
     ]
    },
    {
     "cell_type": "code",
     "collapsed": false,
     "input": [
      "z = np.matrix([[2,4],\n",
      "               [5,6]]) # create  matrix\n",
      "print z\n",
      "z[1,1] = 10 # modify the value at index (1,1)\n",
      "print z"
     ],
     "language": "python",
     "metadata": {},
     "outputs": [
      {
       "output_type": "stream",
       "stream": "stdout",
       "text": [
        "[[2 4]\n",
        " [5 6]]\n",
        "[[ 2  4]\n",
        " [ 5 10]]\n"
       ]
      }
     ],
     "prompt_number": 8
    },
    {
     "cell_type": "heading",
     "level": 3,
     "metadata": {},
     "source": [
      "Calculate the inverse"
     ]
    },
    {
     "cell_type": "code",
     "collapsed": false,
     "input": [
      "A_inv = np.linalg.inv(A)\n",
      "print A_inv"
     ],
     "language": "python",
     "metadata": {},
     "outputs": [
      {
       "output_type": "stream",
       "stream": "stdout",
       "text": [
        "[[ 6.33333333 -2.         -0.33333333]\n",
        " [-0.66666667  1.         -0.33333333]\n",
        " [-1.33333333 -0.          0.33333333]]\n"
       ]
      }
     ],
     "prompt_number": 9
    },
    {
     "cell_type": "heading",
     "level": 3,
     "metadata": {},
     "source": [
      "Solving a system of equations"
     ]
    },
    {
     "cell_type": "code",
     "collapsed": false,
     "input": [
      "x = np.linalg.solve(A, b)\n",
      "print x"
     ],
     "language": "python",
     "metadata": {},
     "outputs": [
      {
       "output_type": "stream",
       "stream": "stdout",
       "text": [
        "[[ 6.33333333]\n",
        " [ 0.33333333]\n",
        " [-1.33333333]]\n"
       ]
      }
     ],
     "prompt_number": 10
    },
    {
     "cell_type": "markdown",
     "metadata": {},
     "source": [
      "We can check this easily:"
     ]
    },
    {
     "cell_type": "code",
     "collapsed": false,
     "input": [
      "print A * x"
     ],
     "language": "python",
     "metadata": {},
     "outputs": [
      {
       "output_type": "stream",
       "stream": "stdout",
       "text": [
        "[[ 3.]\n",
        " [ 5.]\n",
        " [ 8.]]\n"
       ]
      }
     ],
     "prompt_number": 11
    },
    {
     "cell_type": "heading",
     "level": 2,
     "metadata": {},
     "source": [
      "Example"
     ]
    },
    {
     "cell_type": "markdown",
     "metadata": {},
     "source": [
      "A 2D truss structure can be modelled as $\\mathbf{K}\\mathbf{u} = \\mathbf{f}$ where $\\mathbf{K}$ represents the 'stiffness' of the truss, $\\mathbf{u}$ is a vector of nodal displacements and $\\mathbf{f}$ is a force vector. We can solve this, for example, as:"
     ]
    },
    {
     "cell_type": "code",
     "collapsed": false,
     "input": [
      "c = 1.0 / (2.0 * math.sqrt(2))\n",
      "K = np.matrix([[1 + c, -c],\n",
      "               [-c, c]])\n",
      "f = np.matrix([[0],\n",
      "               [-5]])\n",
      "u = np.linalg.solve(K,f)\n",
      "print 'Printing out displacement vector....'\n",
      "print u # print out displacements"
     ],
     "language": "python",
     "metadata": {},
     "outputs": [
      {
       "output_type": "stream",
       "stream": "stdout",
       "text": [
        "Printing out displacement vector....\n",
        "[[ -5.        ]\n",
        " [-19.14213562]]\n"
       ]
      }
     ],
     "prompt_number": 12
    },
    {
     "cell_type": "heading",
     "level": 1,
     "metadata": {},
     "source": [
      "The sort of thing you might be asked in the class test..."
     ]
    },
    {
     "cell_type": "markdown",
     "metadata": {},
     "source": [
      "You are asked to create a program that allows a user to input values of Young's Modulus for certain steel specimens. The program should stop asking for values when the user types 'stop'. Any values which lie outside 5% of the average of all the specimens should be placed in a second list. Produce a line plot of all the specimen values and print out all the list of outliers in sorted format."
     ]
    },
    {
     "cell_type": "code",
     "collapsed": false,
     "input": [
      "full_list = []\n",
      "outlier_list = []\n",
      "\n",
      "while True:\n",
      "    text = raw_input('Please enter value -> ')\n",
      "    if text == 'done':\n",
      "        break\n",
      "    else:\n",
      "        value = float(text)\n",
      "        full_list.append(value)\n",
      "\n",
      "average_val = np.mean(full_list)\n",
      "max_val = 1.05 * average_val\n",
      "min_val = 0.95 * average_val\n",
      "\n",
      "for x in full_list:\n",
      "    if x > max_val or x < min_val:\n",
      "        outlier_list.append(x)\n",
      "\n",
      "plt.plot(full_list, 'bo-')\n",
      "plt.show()\n",
      "\n",
      "print outlier_list"
     ],
     "language": "python",
     "metadata": {},
     "outputs": []
    },
    {
     "cell_type": "code",
     "collapsed": false,
     "input": [],
     "language": "python",
     "metadata": {},
     "outputs": [],
     "prompt_number": 13
    }
   ],
   "metadata": {}
  }
 ]
}