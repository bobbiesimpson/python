{
 "metadata": {
  "name": "",
  "signature": "sha256:1ff305372b145bd5306e80f53a939daf147d44de895007299745387846f90cea"
 },
 "nbformat": 3,
 "nbformat_minor": 0,
 "worksheets": [
  {
   "cells": [
    {
     "cell_type": "heading",
     "level": 1,
     "metadata": {},
     "source": [
      "Lecture 4: Using libraries, code planning and testing"
     ]
    },
    {
     "cell_type": "code",
     "collapsed": false,
     "input": [
      "%matplotlib inline"
     ],
     "language": "python",
     "metadata": {},
     "outputs": [],
     "prompt_number": 6
    },
    {
     "cell_type": "heading",
     "level": 2,
     "metadata": {},
     "source": [
      "Correction to lab solutions"
     ]
    },
    {
     "cell_type": "markdown",
     "metadata": {},
     "source": [
      "A question asked you to insert the value 23 at index 657. I incorrectly wrote"
     ]
    },
    {
     "cell_type": "code",
     "collapsed": false,
     "input": [
      "my_list = range(0,1001)\n",
      "my_list.insert(23, 657) # incorrect"
     ],
     "language": "python",
     "metadata": {},
     "outputs": [],
     "prompt_number": 41
    },
    {
     "cell_type": "markdown",
     "metadata": {},
     "source": [
      "the correct answer is (thanks to Scott McCaw)"
     ]
    },
    {
     "cell_type": "code",
     "collapsed": false,
     "input": [
      "my_list.insert(657, 23) # 657 is the index and 23 is the value "
     ],
     "language": "python",
     "metadata": {},
     "outputs": [],
     "prompt_number": 42
    },
    {
     "cell_type": "heading",
     "level": 2,
     "metadata": {},
     "source": [
      "Using libraries"
     ]
    },
    {
     "cell_type": "markdown",
     "metadata": {},
     "source": [
      "We have been using libraries for a while now, but let's see the various ways in which we can use them. "
     ]
    },
    {
     "cell_type": "code",
     "collapsed": false,
     "input": [
      "import math\n",
      "\n",
      "print math.sqrt(5)\n",
      "print math.sin(4)"
     ],
     "language": "python",
     "metadata": {},
     "outputs": [
      {
       "output_type": "stream",
       "stream": "stdout",
       "text": [
        "2.2360679775\n",
        "-0.756802495308\n"
       ]
      }
     ],
     "prompt_number": 1
    },
    {
     "cell_type": "markdown",
     "metadata": {},
     "source": [
      "We could also do this as"
     ]
    },
    {
     "cell_type": "code",
     "collapsed": false,
     "input": [
      "from math import sqrt, sin\n",
      "print sin(4)\n",
      "print sqrt(4)"
     ],
     "language": "python",
     "metadata": {},
     "outputs": [
      {
       "output_type": "stream",
       "stream": "stdout",
       "text": [
        "-0.756802495308\n",
        "2.0\n"
       ]
      }
     ],
     "prompt_number": 3
    },
    {
     "cell_type": "markdown",
     "metadata": {},
     "source": [
      "We could also do the following, althought it is not recommended since you can end up with name clashes in your code"
     ]
    },
    {
     "cell_type": "code",
     "collapsed": false,
     "input": [
      "from math import * # this says import EVERYTHING from the math library"
     ],
     "language": "python",
     "metadata": {},
     "outputs": [],
     "prompt_number": 4
    },
    {
     "cell_type": "markdown",
     "metadata": {},
     "source": [
      "We can also use aliases which we have been using a lot in our exercises"
     ]
    },
    {
     "cell_type": "code",
     "collapsed": false,
     "input": [
      "import math as m\n",
      "print m.sin(4)\n",
      "print m.sqrt(5)"
     ],
     "language": "python",
     "metadata": {},
     "outputs": [
      {
       "output_type": "stream",
       "stream": "stdout",
       "text": [
        "-0.756802495308\n",
        "2.2360679775\n"
       ]
      }
     ],
     "prompt_number": 5
    },
    {
     "cell_type": "heading",
     "level": 2,
     "metadata": {},
     "source": [
      "Code planning"
     ]
    },
    {
     "cell_type": "markdown",
     "metadata": {},
     "source": [
      "<img src=\"planning.png\">"
     ]
    },
    {
     "cell_type": "heading",
     "level": 2,
     "metadata": {},
     "source": [
      "Testing"
     ]
    },
    {
     "cell_type": "markdown",
     "metadata": {},
     "source": [
      "We ALWAYS need to check if our program does what is expected. For this reason I have included a testing component in your project assignment. The following notes give you some guidance on how to approach this."
     ]
    },
    {
     "cell_type": "code",
     "collapsed": false,
     "input": [
      "import numpy as np\n",
      "import matplotlib.pyplot as plt\n",
      "\n",
      "def bm(x, L, w):\n",
      "    return -0.5 * w * L * x  + w * x * x / 2.0\n",
      "\n",
      "def sf(x, L, w):\n",
      "    return -0.5 * w * L + w * x\n",
      "\n",
      "def bending_test():\n",
      "    bm_val = bm(0.5, 1, 1)\n",
      "    if bm_val == -1.0 / 8.0:\n",
      "        print 'Success: bending moment correct'\n",
      "    else:\n",
      "        print 'Bad bending moment value'\n",
      "        \n",
      "def shear_test():\n",
      "    shear_val = sf(0.0, 1, 1)\n",
      "    if shear_val == -0.5:\n",
      "        print 'Success: shear value correct'\n",
      "    else:\n",
      "        print 'Bad shear value'\n",
      "\n",
      "L = float(raw_input('Please enter length of beam (m) --> '))\n",
      "w = float(raw_input('Please enter u.d.l. --> '))\n",
      "\n",
      "bending_test()\n",
      "shear_test()\n",
      "\n",
      "x = np.arange(0.0, L, 0.01)\n",
      "plt.plot(x, bm(x,L,w))\n",
      "plt.show()"
     ],
     "language": "python",
     "metadata": {},
     "outputs": [
      {
       "name": "stdout",
       "output_type": "stream",
       "stream": "stdout",
       "text": [
        "Please enter length of beam (m) --> 1\n"
       ]
      },
      {
       "name": "stdout",
       "output_type": "stream",
       "stream": "stdout",
       "text": [
        "Please enter u.d.l. --> 1\n"
       ]
      },
      {
       "output_type": "stream",
       "stream": "stdout",
       "text": [
        "Success: bending moment correct\n",
        "Success: shear value correct\n"
       ]
      },
      {
       "metadata": {},
       "output_type": "display_data",
       "png": "[encoded data removed]",
       "text": [
        "<matplotlib.figure.Figure at 0x108e24f90>"
       ]
      }
     ],
     "prompt_number": 18
    },
    {
     "cell_type": "markdown",
     "metadata": {},
     "source": [
      "Another approach is to plot values and look for certain behaviour. For example, in one of the assignment tasks we need to check our integration values converge."
     ]
    },
    {
     "cell_type": "markdown",
     "metadata": {},
     "source": [
      "Let's look at something similar to this. The following series should converge to two (recipricol of triangular numbers)"
     ]
    },
    {
     "cell_type": "markdown",
     "metadata": {},
     "source": [
      "$\\frac{1}{1} + \\frac{1}{3} + \\frac{1}{6} + \\frac{1}{10} + \\frac{1}{15} + \\cdots$ = 2"
     ]
    },
    {
     "cell_type": "code",
     "collapsed": false,
     "input": [
      "def series(n):\n",
      "    xlist = range(1,n+1)\n",
      "    sum = 0\n",
      "    for i in xlist:\n",
      "        sum += 2.0 / (i * (i + 1))\n",
      "    return sum\n",
      "    \n",
      "nvals = [10, 50, 100, 200, 1000, 2000]\n",
      "series_vals = []\n",
      "for x in nvals:\n",
      "    series_vals.append(series(x))\n",
      "\n",
      "plt.plot(nvals, series_vals, 'bo-')\n",
      "plt.show"
     ],
     "language": "python",
     "metadata": {},
     "outputs": [
      {
       "metadata": {},
       "output_type": "pyout",
       "prompt_number": 40,
       "text": [
        "<function matplotlib.pyplot.show>"
       ]
      },
      {
       "metadata": {},
       "output_type": "display_data",
       "png": "[encoded data removed]",
       "text": [
        "<matplotlib.figure.Figure at 0x108645790>"
       ]
      }
     ],
     "prompt_number": 40
    },
    {
     "cell_type": "code",
     "collapsed": false,
     "input": [],
     "language": "python",
     "metadata": {},
     "outputs": []
    }
   ],
   "metadata": {}
  }
 ]
}