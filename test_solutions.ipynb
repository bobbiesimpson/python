{
 "metadata": {
  "name": "",
  "signature": "sha256:5ac23706eb6790b0b0256c601991287ac490401d44cc83497eac1d6a68a3f0c0"
 },
 "nbformat": 3,
 "nbformat_minor": 0,
 "worksheets": [
  {
   "cells": [
    {
     "cell_type": "heading",
     "level": 1,
     "metadata": {},
     "source": [
      "Class test example solutions"
     ]
    },
    {
     "cell_type": "heading",
     "level": 2,
     "metadata": {},
     "source": [
      "Question 1: "
     ]
    },
    {
     "cell_type": "code",
     "collapsed": false,
     "input": [
      "%matplotlib inline # you don't need this line for your code\n",
      "\n",
      "import numpy as np\n",
      "import matplotlib.pyplot as plt\n",
      "\n",
      "readings = [4.5, 6.7, 4.3, 5.6, 7.8, 9.3, 10.2, 8.5, 3.4] # initial data\n",
      "\n",
      "while True:\n",
      "    text = raw_input('Please enter your reading. Enter \"end\" to stop --> ')\n",
      "    if text == 'end':\n",
      "        break\n",
      "    else:\n",
      "        number = float(text)\n",
      "        readings.append(number)\n",
      "        \n",
      "avg = np.mean(readings)\n",
      "ten_pc_high = 1.1 * avg\n",
      "ten_pc_low = 0.9 * avg\n",
      "twenty_pc_high = 1.2 * avg\n",
      "twenty_pc_low = 0.8 * avg\n",
      "\n",
      "zero_to_ten = []\n",
      "ten_to_twenty = []\n",
      "gt_twenty = []\n",
      "\n",
      "for x in readings:\n",
      "    if x < ten_pc_high and x > ten_pc_low:\n",
      "        zero_to_ten.append(x)\n",
      "    elif x < twenty_pc_high and x > twenty_pc_low:\n",
      "        ten_to_twenty.append(x)\n",
      "    else:\n",
      "        gt_twenty.append(x)\n",
      "    \n",
      "print 'Values between 0 and 10% of average...'\n",
      "print zero_to_ten\n",
      "print 'Values between 10 and 20% of average...'\n",
      "print ten_to_twenty\n",
      "print 'Other values outside these ranges...'\n",
      "print gt_twenty\n",
      "\n",
      "plt.plot(readings)\n",
      "plt.xlabel('Reading number')\n",
      "plt.ylabel('Reading value')\n",
      "plt.show()\n"
     ],
     "language": "python",
     "metadata": {},
     "outputs": [
      {
       "name": "stdout",
       "output_type": "stream",
       "stream": "stdout",
       "text": [
        "Please enter your reading. Enter \"end\" to stop --> 6.7\n"
       ]
      },
      {
       "name": "stdout",
       "output_type": "stream",
       "stream": "stdout",
       "text": [
        "Please enter your reading. Enter \"end\" to stop --> 6.7\n"
       ]
      },
      {
       "name": "stdout",
       "output_type": "stream",
       "stream": "stdout",
       "text": [
        "Please enter your reading. Enter \"end\" to stop --> 6.7\n"
       ]
      },
      {
       "name": "stdout",
       "output_type": "stream",
       "stream": "stdout",
       "text": [
        "Please enter your reading. Enter \"end\" to stop --> end\n"
       ]
      },
      {
       "output_type": "stream",
       "stream": "stdout",
       "text": [
        "Values between 0 and 10% of average...\n",
        "[6.7, 6.7, 6.7, 6.7]\n",
        "Values between 10 and 20% of average...\n",
        "[5.6, 7.8]\n",
        "Other values outside these ranges...\n",
        "[4.5, 4.3, 9.3, 10.2, 8.5, 3.4]\n"
       ]
      },
      {
       "metadata": {},
       "output_type": "display_data",
       "png": "[encoded data removed]",
       "text": [
        "<matplotlib.figure.Figure at 0x1087195d0>"
       ]
      }
     ],
     "prompt_number": 18
    },
    {
     "cell_type": "heading",
     "level": 2,
     "metadata": {},
     "source": [
      "Question 2:"
     ]
    },
    {
     "cell_type": "code",
     "collapsed": false,
     "input": [
      "import numpy as np\n",
      "import matplotlib.pyplot as plt\n",
      "\n",
      "def vibration(k, x):\n",
      "    return np.sin(k * x) * np.exp(-0.1 * x)\n",
      "\n",
      "input_k = float(raw_input('Please enter your value of k between 1 and 20 --> '))\n",
      "if input_k < 1 or input_k > 20:\n",
      "    print 'Bad k value entered'\n",
      "else:\n",
      "    x = np.arange(0.0, 10.0 * np.pi, 0.01)\n",
      "    plt.plot(x, vibration(input_k, x))\n",
      "    plt.show()\n"
     ],
     "language": "python",
     "metadata": {},
     "outputs": [
      {
       "name": "stdout",
       "output_type": "stream",
       "stream": "stdout",
       "text": [
        "Please enter your value of k between 1 and 20 --> 5\n"
       ]
      },
      {
       "metadata": {},
       "output_type": "display_data",
       "png": "[encoded data removed]",
       "text": [
        "<matplotlib.figure.Figure at 0x107389810>"
       ]
      }
     ],
     "prompt_number": 24
    },
    {
     "cell_type": "heading",
     "level": 2,
     "metadata": {},
     "source": [
      "Question 3:"
     ]
    },
    {
     "cell_type": "code",
     "collapsed": false,
     "input": [
      "import math\n",
      "\n",
      "w = float(raw_input('Enter udl (kN/m) --> ' ))\n",
      "L = float(raw_input('Enter length (m) --> ' ))\n",
      "\n",
      "M_D = w * L**2 / 8.0\n",
      "print M_D\n",
      "\n",
      "while True:\n",
      "    b = float(raw_input('Enter b (mm) --> ' ))\n",
      "    d = float(raw_input('Enter d (mm) --> ' ))\n",
      "    f_ck = float(raw_input('Enter f_ck (N/mm^2)--> ' ))\n",
      "    f_yk = float(raw_input('Enter f_yk (N/mm^2)--> ' ))\n",
      "    M_R = 0.167 * b * d**2 * f_ck * 1e-6 # in kNm\n",
      "    \n",
      "    if M_R < M_D:\n",
      "        print 'Moment of resistance is too low. Pick different parameters'\n",
      "    else:\n",
      "        print 'Moment resistance good. Continuing.'\n",
      "        break\n",
      "\n",
      "K = (M_D * 1.0e6) / (b * d**2 * f_ck)\n",
      "z = (0.5 + math.sqrt(0.25 - K / 1.134)) * d\n",
      "A_s = (M_D * 1.0e6) / (0.87 * f_yk * z) # mm^2\n",
      "\n",
      "if z > (0.95 * d):\n",
      "    print 'z value is too big'\n",
      "elif A_s < (0.00135 * b * d):\n",
      "    print 'Steel quantitiy too small.'\n",
      "else:\n",
      "    print 'Area of steel required: %s' % A_s"
     ],
     "language": "python",
     "metadata": {},
     "outputs": [
      {
       "name": "stdout",
       "output_type": "stream",
       "stream": "stdout",
       "text": [
        "Enter udl (kN/m) --> 34.6\n"
       ]
      },
      {
       "name": "stdout",
       "output_type": "stream",
       "stream": "stdout",
       "text": [
        "Enter length (m) --> 7\n"
       ]
      },
      {
       "output_type": "stream",
       "stream": "stdout",
       "text": [
        "211.925\n"
       ]
      },
      {
       "name": "stdout",
       "output_type": "stream",
       "stream": "stdout",
       "text": [
        "Enter b (mm) --> 250\n"
       ]
      },
      {
       "name": "stdout",
       "output_type": "stream",
       "stream": "stdout",
       "text": [
        "Enter d (mm) --> 475\n"
       ]
      },
      {
       "name": "stdout",
       "output_type": "stream",
       "stream": "stdout",
       "text": [
        "Enter f_ck (N/mm^2)--> 25\n"
       ]
      },
      {
       "name": "stdout",
       "output_type": "stream",
       "stream": "stdout",
       "text": [
        "Enter f_yk (N/mm^2)--> 500\n"
       ]
      },
      {
       "output_type": "stream",
       "stream": "stdout",
       "text": [
        "Moment resistance good. Continuing.\n",
        "Area of steel 1217.03600933\n",
        "Area of steel required: 1217.03600933\n"
       ]
      }
     ],
     "prompt_number": 23
    },
    {
     "cell_type": "code",
     "collapsed": false,
     "input": [],
     "language": "python",
     "metadata": {},
     "outputs": []
    }
   ],
   "metadata": {}
  }
 ]
}