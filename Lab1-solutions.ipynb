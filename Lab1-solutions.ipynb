{
 "metadata": {
  "name": "",
  "signature": "sha256:94c8b1c0539f982573f73a674dd8e47a3dfadbcc5a92e2afaf149481e70443cb"
 },
 "nbformat": 3,
 "nbformat_minor": 0,
 "worksheets": [
  {
   "cells": [
    {
     "cell_type": "heading",
     "level": 1,
     "metadata": {},
     "source": [
      "Lab 1 Solutions"
     ]
    },
    {
     "cell_type": "markdown",
     "metadata": {},
     "source": [
      "Last week's lab had some difficult problems. I would not expect you to complete such difficult problems in your test. In these solutions I will indicate any questions which I think fall into this category."
     ]
    },
    {
     "cell_type": "markdown",
     "metadata": {},
     "source": [
      "We will go through an example question in Tuesday's lecture (Feb. 17th) to help you prepare for your test."
     ]
    },
    {
     "cell_type": "markdown",
     "metadata": {},
     "source": [
      "(Do not worry too much about the line below - this is just for plotting on Python notebooks. You do not need it in your own scripts)"
     ]
    },
    {
     "cell_type": "code",
     "collapsed": false,
     "input": [
      "%matplotlib inline"
     ],
     "language": "python",
     "metadata": {},
     "outputs": [],
     "prompt_number": 1
    },
    {
     "cell_type": "markdown",
     "metadata": {},
     "source": [
      "However, you may need to include the following lines in your script depending on the libraries you use."
     ]
    },
    {
     "cell_type": "code",
     "collapsed": false,
     "input": [
      "import matplotlib.pyplot as plt\n",
      "import numpy as np\n",
      "import math"
     ],
     "language": "python",
     "metadata": {},
     "outputs": [],
     "prompt_number": 2
    },
    {
     "cell_type": "heading",
     "level": 2,
     "metadata": {},
     "source": [
      "if/elif/else statements"
     ]
    },
    {
     "cell_type": "heading",
     "level": 3,
     "metadata": {},
     "source": [
      "Problem 1."
     ]
    },
    {
     "cell_type": "code",
     "collapsed": false,
     "input": [
      "mark = float(raw_input('Please enter mark (0-100) --> '))\n",
      "\n",
      "if mark < 40:\n",
      "    print 'Fail'\n",
      "elif mark >= 40 and mark < 50:\n",
      "    print'D'\n",
      "elif mark >= 50 and mark < 60:\n",
      "    print 'C'\n",
      "elif mark >= 60 and mark < 70:\n",
      "    print 'B'\n",
      "else:\n",
      "    print 'A'\n"
     ],
     "language": "python",
     "metadata": {},
     "outputs": [
      {
       "name": "stdout",
       "output_type": "stream",
       "stream": "stdout",
       "text": [
        "Please enter mark (0-100) --> 30\n"
       ]
      },
      {
       "output_type": "stream",
       "stream": "stdout",
       "text": [
        "Fail\n"
       ]
      }
     ],
     "prompt_number": 3
    },
    {
     "cell_type": "heading",
     "level": 3,
     "metadata": {},
     "source": [
      "Problem 2."
     ]
    },
    {
     "cell_type": "markdown",
     "metadata": {},
     "source": [
      "Notice how the use can enter any number and the script above will run, producing erroneous output. It is always a good idea to put checks in for the user input. Let's output an error if the user types a number outisde the range (0,100)"
     ]
    },
    {
     "cell_type": "code",
     "collapsed": false,
     "input": [
      "mark = float(raw_input('Please enter mark (0-100) --> '))\n",
      "\n",
      "if mark >= 0 and mark < 40:\n",
      "    print 'Fail'\n",
      "elif mark >= 40 and mark < 50:\n",
      "    print'D'\n",
      "elif mark >= 50 and mark < 60:\n",
      "    print 'C'\n",
      "elif mark >= 60 and mark < 70:\n",
      "    print 'B'\n",
      "elif mark >= 70 and mark <= 100:\n",
      "    print 'A'\n",
      "else:\n",
      "    print 'Invalid mark entered. Please enter a mark in range (0,100)'\n"
     ],
     "language": "python",
     "metadata": {},
     "outputs": [
      {
       "name": "stdout",
       "output_type": "stream",
       "stream": "stdout",
       "text": [
        "Please enter mark (0-100) --> -10\n"
       ]
      },
      {
       "output_type": "stream",
       "stream": "stdout",
       "text": [
        "Invalid mark entered. Please enter a mark in range (0,100)\n"
       ]
      }
     ],
     "prompt_number": 4
    },
    {
     "cell_type": "heading",
     "level": 3,
     "metadata": {},
     "source": [
      "Problem 3."
     ]
    },
    {
     "cell_type": "code",
     "collapsed": false,
     "input": [
      "water_level1 = float(raw_input('Please enter water level 1 --> '))\n",
      "water_level2 = float(raw_input('Please enter water level 2 --> '))\n",
      "\n",
      "if water_level1 > 5.0 and water_level2 > 3.5:\n",
      "    print 'Open floodgates'\n",
      "else:\n",
      "    print 'Normal floodgate status.'\n"
     ],
     "language": "python",
     "metadata": {},
     "outputs": [
      {
       "name": "stdout",
       "output_type": "stream",
       "stream": "stdout",
       "text": [
        "Please enter water level 1 --> 6\n"
       ]
      },
      {
       "name": "stdout",
       "output_type": "stream",
       "stream": "stdout",
       "text": [
        "Please enter water level 2 --> 4\n"
       ]
      },
      {
       "output_type": "stream",
       "stream": "stdout",
       "text": [
        "Open floodgates\n"
       ]
      }
     ],
     "prompt_number": 5
    },
    {
     "cell_type": "heading",
     "level": 3,
     "metadata": {},
     "source": [
      "Problem 4."
     ]
    },
    {
     "cell_type": "code",
     "collapsed": false,
     "input": [
      "water_level1 = float(raw_input('Please enter water level 1 --> '))\n",
      "water_level2 = float(raw_input('Please enter water level 2 --> '))\n",
      "\n",
      "if water_level1 > 2.5 or water_level2 > 5.0:\n",
      "    print 'Open floodgates'\n",
      "else:\n",
      "    print 'Normal floodgate status.'"
     ],
     "language": "python",
     "metadata": {},
     "outputs": [
      {
       "name": "stdout",
       "output_type": "stream",
       "stream": "stdout",
       "text": [
        "Please enter water level 1 --> 3\n"
       ]
      },
      {
       "name": "stdout",
       "output_type": "stream",
       "stream": "stdout",
       "text": [
        "Please enter water level 2 --> 4\n"
       ]
      },
      {
       "output_type": "stream",
       "stream": "stdout",
       "text": [
        "Open floodgates\n"
       ]
      }
     ],
     "prompt_number": 6
    },
    {
     "cell_type": "heading",
     "level": 2,
     "metadata": {},
     "source": [
      "For loops"
     ]
    },
    {
     "cell_type": "heading",
     "level": 3,
     "metadata": {},
     "source": [
      "Problem 1."
     ]
    },
    {
     "cell_type": "code",
     "collapsed": false,
     "input": [
      "for i in range(0,101,5):\n",
      "    print i"
     ],
     "language": "python",
     "metadata": {},
     "outputs": [
      {
       "output_type": "stream",
       "stream": "stdout",
       "text": [
        "0\n",
        "5\n",
        "10\n",
        "15\n",
        "20\n",
        "25\n",
        "30\n",
        "35\n",
        "40\n",
        "45\n",
        "50\n",
        "55\n",
        "60\n",
        "65\n",
        "70\n",
        "75\n",
        "80\n",
        "85\n",
        "90\n",
        "95\n",
        "100\n"
       ]
      }
     ],
     "prompt_number": 7
    },
    {
     "cell_type": "heading",
     "level": 3,
     "metadata": {},
     "source": [
      "Problem 2."
     ]
    },
    {
     "cell_type": "code",
     "collapsed": false,
     "input": [
      "for x in range(100, -1, -5):\n",
      "    print x"
     ],
     "language": "python",
     "metadata": {},
     "outputs": [
      {
       "output_type": "stream",
       "stream": "stdout",
       "text": [
        "100\n",
        "95\n",
        "90\n",
        "85\n",
        "80\n",
        "75\n",
        "70\n",
        "65\n",
        "60\n",
        "55\n",
        "50\n",
        "45\n",
        "40\n",
        "35\n",
        "30\n",
        "25\n",
        "20\n",
        "15\n",
        "10\n",
        "5\n",
        "0\n"
       ]
      }
     ],
     "prompt_number": 8
    },
    {
     "cell_type": "heading",
     "level": 3,
     "metadata": {},
     "source": [
      "Problem 3. (This is HARD and you is well above the level expected for your class test)"
     ]
    },
    {
     "cell_type": "markdown",
     "metadata": {},
     "source": [
      "This is also the solution to Problem 3. in the *functions* exercises."
     ]
    },
    {
     "cell_type": "code",
     "collapsed": false,
     "input": [
      "# remember to include 'import math'\n",
      "\n",
      "n = int(raw_input('Enter number of terms --> '))\n",
      "x = float(raw_input('Enter value of x --> '))\n",
      "\n",
      "def approxsin(x, n):\n",
      "    result = 0.0\n",
      "    for i in range(0,n):\n",
      "        sign = (-1.0)**i\n",
      "        power = 2.0 * i + 1.0\n",
      "        result += sign * x**(power) / math.factorial(power)\n",
      "    return result\n",
      "\n",
      "print approxsin(x, n)"
     ],
     "language": "python",
     "metadata": {},
     "outputs": [
      {
       "name": "stdout",
       "output_type": "stream",
       "stream": "stdout",
       "text": [
        "Enter number of terms --> 5\n"
       ]
      },
      {
       "name": "stdout",
       "output_type": "stream",
       "stream": "stdout",
       "text": [
        "Enter value of x --> 0.2\n"
       ]
      },
      {
       "output_type": "stream",
       "stream": "stdout",
       "text": [
        "0.198669330795\n"
       ]
      }
     ],
     "prompt_number": 9
    },
    {
     "cell_type": "markdown",
     "metadata": {},
     "source": [
      "For those interested in knowing what the Taylor series approximation looks graphically, you can use the following code:"
     ]
    },
    {
     "cell_type": "code",
     "collapsed": false,
     "input": [
      "# remember to include 'import matplotlib.pyplot as plt'\n",
      "# remember to include 'import numpy as np'\n",
      "\n",
      "xvals = np.arange(0.0, 2.0 * np.pi, 0.01) # create x values for plotting. Choose range (0,2 * pi)\n",
      "plt.plot(xvals, approxsin(xvals, n)) # plot the Taylor series\n",
      "plt.plot(xvals, np.sin(xvals)) # and also plot the exact result\n",
      "plt.show()"
     ],
     "language": "python",
     "metadata": {},
     "outputs": [
      {
       "metadata": {},
       "output_type": "display_data",
       "png": "[encoded data removed]",
       "text": [
        "<matplotlib.figure.Figure at 0x107814450>"
       ]
      }
     ],
     "prompt_number": 10
    },
    {
     "cell_type": "heading",
     "level": 3,
     "metadata": {},
     "source": [
      "While loops"
     ]
    },
    {
     "cell_type": "heading",
     "level": 3,
     "metadata": {},
     "source": [
      "Problem 1."
     ]
    },
    {
     "cell_type": "code",
     "collapsed": false,
     "input": [
      "while True: \n",
      "    text = raw_input('Please enter text --> ')\n",
      "    if text == 'stop':\n",
      "        break\n"
     ],
     "language": "python",
     "metadata": {},
     "outputs": [
      {
       "name": "stdout",
       "output_type": "stream",
       "stream": "stdout",
       "text": [
        "Please enter text --> hi\n"
       ]
      },
      {
       "name": "stdout",
       "output_type": "stream",
       "stream": "stdout",
       "text": [
        "Please enter text --> there \n"
       ]
      },
      {
       "name": "stdout",
       "output_type": "stream",
       "stream": "stdout",
       "text": [
        "Please enter text --> what\n"
       ]
      },
      {
       "name": "stdout",
       "output_type": "stream",
       "stream": "stdout",
       "text": [
        "Please enter text --> is \n"
       ]
      },
      {
       "name": "stdout",
       "output_type": "stream",
       "stream": "stdout",
       "text": [
        "Please enter text --> going \n"
       ]
      },
      {
       "name": "stdout",
       "output_type": "stream",
       "stream": "stdout",
       "text": [
        "Please enter text --> on\n"
       ]
      },
      {
       "name": "stdout",
       "output_type": "stream",
       "stream": "stdout",
       "text": [
        "Please enter text --> stop\n"
       ]
      }
     ],
     "prompt_number": 11
    },
    {
     "cell_type": "heading",
     "level": 3,
     "metadata": {},
     "source": [
      "Problem 2."
     ]
    },
    {
     "cell_type": "code",
     "collapsed": false,
     "input": [
      "counter = 0\n",
      "while True:\n",
      "    n = int(raw_input('Please enter integer --> '))\n",
      "    counter += n\n",
      "    if counter >= 1000:\n",
      "        break\n",
      "\n",
      "print counter"
     ],
     "language": "python",
     "metadata": {},
     "outputs": [
      {
       "name": "stdout",
       "output_type": "stream",
       "stream": "stdout",
       "text": [
        "Please enter integer --> 5\n"
       ]
      },
      {
       "name": "stdout",
       "output_type": "stream",
       "stream": "stdout",
       "text": [
        "Please enter integer --> 4\n"
       ]
      },
      {
       "name": "stdout",
       "output_type": "stream",
       "stream": "stdout",
       "text": [
        "Please enter integer --> 3\n"
       ]
      },
      {
       "name": "stdout",
       "output_type": "stream",
       "stream": "stdout",
       "text": [
        "Please enter integer --> 200\n"
       ]
      },
      {
       "name": "stdout",
       "output_type": "stream",
       "stream": "stdout",
       "text": [
        "Please enter integer --> 400\n"
       ]
      },
      {
       "name": "stdout",
       "output_type": "stream",
       "stream": "stdout",
       "text": [
        "Please enter integer --> 600\n"
       ]
      },
      {
       "output_type": "stream",
       "stream": "stdout",
       "text": [
        "1212\n"
       ]
      }
     ],
     "prompt_number": 12
    },
    {
     "cell_type": "heading",
     "level": 2,
     "metadata": {},
     "source": [
      "Functions"
     ]
    },
    {
     "cell_type": "heading",
     "level": 3,
     "metadata": {},
     "source": [
      "Problem 1."
     ]
    },
    {
     "cell_type": "code",
     "collapsed": false,
     "input": [
      "def bm(x,L,P): # bending moment of cantilever of length L with force P at end\n",
      "    return -P * (L - x)\n",
      "\n",
      "def sf(x, L, P): # shear force of cantilever of length L with force P at end\n",
      "    return -P"
     ],
     "language": "python",
     "metadata": {},
     "outputs": [],
     "prompt_number": 13
    },
    {
     "cell_type": "heading",
     "level": 3,
     "metadata": {},
     "source": [
      "Problem 2."
     ]
    },
    {
     "cell_type": "code",
     "collapsed": false,
     "input": [
      "def bmi(x):\n",
      "    if x < 18.5:\n",
      "        return 'Underweight'\n",
      "    elif x >= 18.5 and x < 25.0:\n",
      "        return 'Normal weight'\n",
      "    elif x >= 25.0 and x < 30.0:\n",
      "        return 'Overweight'\n",
      "    else:\n",
      "        return 'Obese'\n",
      "\n",
      "print bmi(18.5)\n",
      "print bmi(32.0)\n",
      "        "
     ],
     "language": "python",
     "metadata": {},
     "outputs": [
      {
       "output_type": "stream",
       "stream": "stdout",
       "text": [
        "Normal weight\n",
        "Obese\n"
       ]
      }
     ],
     "prompt_number": 14
    },
    {
     "cell_type": "heading",
     "level": 3,
     "metadata": {},
     "source": [
      "Problem 3."
     ]
    },
    {
     "cell_type": "markdown",
     "metadata": {},
     "source": [
      "See the answer to Problem 3. in the *for* loop exercises above."
     ]
    },
    {
     "cell_type": "heading",
     "level": 2,
     "metadata": {},
     "source": [
      "Lists"
     ]
    },
    {
     "cell_type": "heading",
     "level": 3,
     "metadata": {},
     "source": [
      "Problem 1."
     ]
    },
    {
     "cell_type": "code",
     "collapsed": false,
     "input": [
      "my_list = range(0,1001)\n",
      "my_list.remove(100)\n",
      "my_list.insert(657, 23)\n",
      "my_list.append(1001)\n",
      "print my_list"
     ],
     "language": "python",
     "metadata": {},
     "outputs": [
      {
       "output_type": "stream",
       "stream": "stdout",
       "text": [
        "[0, 1, 2, 3, 4, 5, 6, 7, 8, 9, 10, 11, 12, 13, 14, 15, 16, 17, 18, 19, 20, 21, 22, 23, 24, 25, 26, 27, 28, 29, 30, 31, 32, 33, 34, 35, 36, 37, 38, 39, 40, 41, 42, 43, 44, 45, 46, 47, 48, 49, 50, 51, 52, 53, 54, 55, 56, 57, 58, 59, 60, 61, 62, 63, 64, 65, 66, 67, 68, 69, 70, 71, 72, 73, 74, 75, 76, 77, 78, 79, 80, 81, 82, 83, 84, 85, 86, 87, 88, 89, 90, 91, 92, 93, 94, 95, 96, 97, 98, 99, 101, 102, 103, 104, 105, 106, 107, 108, 109, 110, 111, 112, 113, 114, 115, 116, 117, 118, 119, 120, 121, 122, 123, 124, 125, 126, 127, 128, 129, 130, 131, 132, 133, 134, 135, 136, 137, 138, 139, 140, 141, 142, 143, 144, 145, 146, 147, 148, 149, 150, 151, 152, 153, 154, 155, 156, 157, 158, 159, 160, 161, 162, 163, 164, 165, 166, 167, 168, 169, 170, 171, 172, 173, 174, 175, 176, 177, 178, 179, 180, 181, 182, 183, 184, 185, 186, 187, 188, 189, 190, 191, 192, 193, 194, 195, 196, 197, 198, 199, 200, 201, 202, 203, 204, 205, 206, 207, 208, 209, 210, 211, 212, 213, 214, 215, 216, 217, 218, 219, 220, 221, 222, 223, 224, 225, 226, 227, 228, 229, 230, 231, 232, 233, 234, 235, 236, 237, 238, 239, 240, 241, 242, 243, 244, 245, 246, 247, 248, 249, 250, 251, 252, 253, 254, 255, 256, 257, 258, 259, 260, 261, 262, 263, 264, 265, 266, 267, 268, 269, 270, 271, 272, 273, 274, 275, 276, 277, 278, 279, 280, 281, 282, 283, 284, 285, 286, 287, 288, 289, 290, 291, 292, 293, 294, 295, 296, 297, 298, 299, 300, 301, 302, 303, 304, 305, 306, 307, 308, 309, 310, 311, 312, 313, 314, 315, 316, 317, 318, 319, 320, 321, 322, 323, 324, 325, 326, 327, 328, 329, 330, 331, 332, 333, 334, 335, 336, 337, 338, 339, 340, 341, 342, 343, 344, 345, 346, 347, 348, 349, 350, 351, 352, 353, 354, 355, 356, 357, 358, 359, 360, 361, 362, 363, 364, 365, 366, 367, 368, 369, 370, 371, 372, 373, 374, 375, 376, 377, 378, 379, 380, 381, 382, 383, 384, 385, 386, 387, 388, 389, 390, 391, 392, 393, 394, 395, 396, 397, 398, 399, 400, 401, 402, 403, 404, 405, 406, 407, 408, 409, 410, 411, 412, 413, 414, 415, 416, 417, 418, 419, 420, 421, 422, 423, 424, 425, 426, 427, 428, 429, 430, 431, 432, 433, 434, 435, 436, 437, 438, 439, 440, 441, 442, 443, 444, 445, 446, 447, 448, 449, 450, 451, 452, 453, 454, 455, 456, 457, 458, 459, 460, 461, 462, 463, 464, 465, 466, 467, 468, 469, 470, 471, 472, 473, 474, 475, 476, 477, 478, 479, 480, 481, 482, 483, 484, 485, 486, 487, 488, 489, 490, 491, 492, 493, 494, 495, 496, 497, 498, 499, 500, 501, 502, 503, 504, 505, 506, 507, 508, 509, 510, 511, 512, 513, 514, 515, 516, 517, 518, 519, 520, 521, 522, 523, 524, 525, 526, 527, 528, 529, 530, 531, 532, 533, 534, 535, 536, 537, 538, 539, 540, 541, 542, 543, 544, 545, 546, 547, 548, 549, 550, 551, 552, 553, 554, 555, 556, 557, 558, 559, 560, 561, 562, 563, 564, 565, 566, 567, 568, 569, 570, 571, 572, 573, 574, 575, 576, 577, 578, 579, 580, 581, 582, 583, 584, 585, 586, 587, 588, 589, 590, 591, 592, 593, 594, 595, 596, 597, 598, 599, 600, 601, 602, 603, 604, 605, 606, 607, 608, 609, 610, 611, 612, 613, 614, 615, 616, 617, 618, 619, 620, 621, 622, 623, 624, 625, 626, 627, 628, 629, 630, 631, 632, 633, 634, 635, 636, 637, 638, 639, 640, 641, 642, 643, 644, 645, 646, 647, 648, 649, 650, 651, 652, 653, 654, 655, 656, 657, 23, 658, 659, 660, 661, 662, 663, 664, 665, 666, 667, 668, 669, 670, 671, 672, 673, 674, 675, 676, 677, 678, 679, 680, 681, 682, 683, 684, 685, 686, 687, 688, 689, 690, 691, 692, 693, 694, 695, 696, 697, 698, 699, 700, 701, 702, 703, 704, 705, 706, 707, 708, 709, 710, 711, 712, 713, 714, 715, 716, 717, 718, 719, 720, 721, 722, 723, 724, 725, 726, 727, 728, 729, 730, 731, 732, 733, 734, 735, 736, 737, 738, 739, 740, 741, 742, 743, 744, 745, 746, 747, 748, 749, 750, 751, 752, 753, 754, 755, 756, 757, 758, 759, 760, 761, 762, 763, 764, 765, 766, 767, 768, 769, 770, 771, 772, 773, 774, 775, 776, 777, 778, 779, 780, 781, 782, 783, 784, 785, 786, 787, 788, 789, 790, 791, 792, 793, 794, 795, 796, 797, 798, 799, 800, 801, 802, 803, 804, 805, 806, 807, 808, 809, 810, 811, 812, 813, 814, 815, 816, 817, 818, 819, 820, 821, 822, 823, 824, 825, 826, 827, 828, 829, 830, 831, 832, 833, 834, 835, 836, 837, 838, 839, 840, 841, 842, 843, 844, 845, 846, 847, 848, 849, 850, 851, 852, 853, 854, 855, 856, 857, 858, 859, 860, 861, 862, 863, 864, 865, 866, 867, 868, 869, 870, 871, 872, 873, 874, 875, 876, 877, 878, 879, 880, 881, 882, 883, 884, 885, 886, 887, 888, 889, 890, 891, 892, 893, 894, 895, 896, 897, 898, 899, 900, 901, 902, 903, 904, 905, 906, 907, 908, 909, 910, 911, 912, 913, 914, 915, 916, 917, 918, 919, 920, 921, 922, 923, 924, 925, 926, 927, 928, 929, 930, 931, 932, 933, 934, 935, 936, 937, 938, 939, 940, 941, 942, 943, 944, 945, 946, 947, 948, 949, 950, 951, 952, 953, 954, 955, 956, 957, 958, 959, 960, 961, 962, 963, 964, 965, 966, 967, 968, 969, 970, 971, 972, 973, 974, 975, 976, 977, 978, 979, 980, 981, 982, 983, 984, 985, 986, 987, 988, 989, 990, 991, 992, 993, 994, 995, 996, 997, 998, 999, 1000, 1001]\n"
       ]
      }
     ],
     "prompt_number": 1
    },
    {
     "cell_type": "heading",
     "level": 3,
     "metadata": {},
     "source": [
      "Problem 2."
     ]
    },
    {
     "cell_type": "code",
     "collapsed": false,
     "input": [
      "def cubed(x):\n",
      "    return x**3\n",
      "\n",
      "my_random_list = [2.34, 4.34, 2.234, 1.123, 1.234, 4.355, 2.345, 7.456, 9.234, 10.2345]\n",
      "for val in my_random_list:\n",
      "    print cubed(val)"
     ],
     "language": "python",
     "metadata": {},
     "outputs": [
      {
       "output_type": "stream",
       "stream": "stdout",
       "text": [
        "12.812904\n",
        "81.746504\n",
        "11.149348904\n",
        "1.416247867\n",
        "1.879080904\n",
        "82.597038875\n",
        "12.895213625\n",
        "414.493474816\n",
        "787.353224904\n",
        "1072.01260271\n"
       ]
      }
     ],
     "prompt_number": 16
    },
    {
     "cell_type": "heading",
     "level": 3,
     "metadata": {},
     "source": [
      "Problem 3."
     ]
    },
    {
     "cell_type": "code",
     "collapsed": false,
     "input": [
      "my_list = [] # create an empty list\n",
      "while True:\n",
      "    input_text = raw_input('Please enter value --> ')\n",
      "    if input_text == 'stop': # if user enters text we stop\n",
      "        break\n",
      "    else:\n",
      "        val = float(input_text) # create a float\n",
      "        my_list.append(val) # add it to the list\n",
      "        \n",
      "print my_list\n",
      "        "
     ],
     "language": "python",
     "metadata": {},
     "outputs": [
      {
       "name": "stdout",
       "output_type": "stream",
       "stream": "stdout",
       "text": [
        "Please enter value --> 1\n"
       ]
      },
      {
       "name": "stdout",
       "output_type": "stream",
       "stream": "stdout",
       "text": [
        "Please enter value --> 2\n"
       ]
      },
      {
       "name": "stdout",
       "output_type": "stream",
       "stream": "stdout",
       "text": [
        "Please enter value --> 3\n"
       ]
      },
      {
       "name": "stdout",
       "output_type": "stream",
       "stream": "stdout",
       "text": [
        "Please enter value --> 4\n"
       ]
      },
      {
       "name": "stdout",
       "output_type": "stream",
       "stream": "stdout",
       "text": [
        "Please enter value --> 5\n"
       ]
      },
      {
       "name": "stdout",
       "output_type": "stream",
       "stream": "stdout",
       "text": [
        "Please enter value --> 6\n"
       ]
      },
      {
       "name": "stdout",
       "output_type": "stream",
       "stream": "stdout",
       "text": [
        "Please enter value --> stop\n"
       ]
      },
      {
       "output_type": "stream",
       "stream": "stdout",
       "text": [
        "[1.0, 2.0, 3.0, 4.0, 5.0, 6.0]\n"
       ]
      }
     ],
     "prompt_number": 17
    },
    {
     "cell_type": "heading",
     "level": 2,
     "metadata": {},
     "source": [
      "Dictionaries"
     ]
    },
    {
     "cell_type": "heading",
     "level": 3,
     "metadata": {},
     "source": [
      "Problem 1."
     ]
    },
    {
     "cell_type": "code",
     "collapsed": false,
     "input": [
      "# remember to include 'import numpy as np'\n",
      "\n",
      "river_data = {'clyde' : [2.345, 2.2345, 1.2345, 4.2334, 5.1234],\n",
      "              'forth' : [4.2345, 4.2345, 4.2345, 4.2345, 4.2345],\n",
      "              'dee' : [2.321, 5.2345, 6.234, 5.2345, 3.2345]}\n",
      "river_name = raw_input('Please enter river name -> ')\n",
      "my_river_list = river_data[river_name]\n",
      "my_river_max = np.max(my_river_list)\n",
      "my_river_min = np.min(my_river_list)\n",
      "my_river_avg = np.mean(my_river_list)\n",
      "\n",
      "print 'River %s with average: %s, min: %s and max: %s ' % (river_name, my_river_avg, my_river_min, my_river_max)"
     ],
     "language": "python",
     "metadata": {},
     "outputs": [
      {
       "name": "stdout",
       "output_type": "stream",
       "stream": "stdout",
       "text": [
        "Please enter river name -> clyde\n"
       ]
      },
      {
       "output_type": "stream",
       "stream": "stdout",
       "text": [
        "River clyde with average: 3.03416, min: 1.2345 and max: 5.1234 \n"
       ]
      }
     ],
     "prompt_number": 18
    },
    {
     "cell_type": "heading",
     "level": 2,
     "metadata": {},
     "source": [
      "Plotting"
     ]
    },
    {
     "cell_type": "heading",
     "level": 3,
     "metadata": {},
     "source": [
      "Problem 1."
     ]
    },
    {
     "cell_type": "code",
     "collapsed": false,
     "input": [
      "# remember to include the matplotlib and numpy libraries as before\n",
      "\n",
      "def bending(x,L,P): # bending moment of cantilever of length L with force P at end\n",
      "    return -P * (L - x)\n",
      "\n",
      "def shear(x, L, P): # shear force of cantilever of length L with force P at end\n",
      "    return -P * np.ones(len(x)) # this creates an array of values equal to P. It will be the same length as x.\n",
      "\n",
      "L = float(raw_input('Please enter length of beam --> ' ))\n",
      "P = float(raw_input('Please enter load at free span --> ' ))\n",
      "\n",
      "x_vals = np.arange(0.0, L, 0.01) \n",
      "plt.plot(x_vals, bm(x_vals, L, P))\n",
      "plt.plot(x_vals, shear(x_vals, L, P))\n",
      "plt.show()\n",
      "    "
     ],
     "language": "python",
     "metadata": {},
     "outputs": [
      {
       "name": "stdout",
       "output_type": "stream",
       "stream": "stdout",
       "text": [
        "Please enter length of beam --> 1\n"
       ]
      },
      {
       "name": "stdout",
       "output_type": "stream",
       "stream": "stdout",
       "text": [
        "Please enter load at free span --> 2\n"
       ]
      },
      {
       "metadata": {},
       "output_type": "display_data",
       "png": "[encoded data removed]",
       "text": [
        "<matplotlib.figure.Figure at 0x1078f5410>"
       ]
      }
     ],
     "prompt_number": 21
    },
    {
     "cell_type": "heading",
     "level": 3,
     "metadata": {},
     "source": [
      "Problem 2."
     ]
    },
    {
     "cell_type": "code",
     "collapsed": false,
     "input": [
      "#remember to include 'import matplotlib.pyplot as plt'\n",
      "\n",
      "river_names = ['clyde', 'forth', 'esk', 'dee', 'cart']\n",
      "river_data = [10.4, 2.3, 4.5, 6.7, 8.9]\n",
      "\n",
      "x = range(len(river_data))\n",
      "plt.bar(x, river_data, align='center')\n",
      "plt.xticks(x, river_names)\n",
      "plt.show()"
     ],
     "language": "python",
     "metadata": {},
     "outputs": [
      {
       "metadata": {},
       "output_type": "display_data",
       "png": "[encoded data removed]",
       "text": [
        "<matplotlib.figure.Figure at 0x107b17090>"
       ]
      }
     ],
     "prompt_number": 23
    },
    {
     "cell_type": "heading",
     "level": 2,
     "metadata": {},
     "source": [
      "Problem 1."
     ]
    },
    {
     "cell_type": "code",
     "collapsed": false,
     "input": [
      "#remember to include 'import matplotlib.pyplot as plt'\n",
      "\n",
      "y_list = [] # create an empty list for the y data\n",
      "while True:\n",
      "    text = raw_input('Please enter y data values. Enter \"done\" when finished --> ' )\n",
      "    if text == 'done':\n",
      "        break\n",
      "    else:\n",
      "        y = float(text) # remember to convert text to a float\n",
      "        y_list.append(y)\n",
      "\n",
      "x_list = [] # empty x list\n",
      "while True:\n",
      "    text = raw_input('Please enter x data values. Enter \"done\" when finished --> ' )\n",
      "    if text == 'done':\n",
      "       break\n",
      "    else:\n",
      "        x = float(text) # remember to convert text to a float\n",
      "        x_list.append(x)\n",
      "\n",
      "if len(x_list) != len(y_list):\n",
      "    print 'Unequal sizes of X data and Y data.'\n",
      "else:\n",
      "    plt.scatter(x_list, y_list)\n",
      "    plt.show()"
     ],
     "language": "python",
     "metadata": {},
     "outputs": [
      {
       "name": "stdout",
       "output_type": "stream",
       "stream": "stdout",
       "text": [
        "Please enter y data values. Enter \"done\" when finished --> 1\n"
       ]
      },
      {
       "name": "stdout",
       "output_type": "stream",
       "stream": "stdout",
       "text": [
        "Please enter y data values. Enter \"done\" when finished --> 2\n"
       ]
      },
      {
       "name": "stdout",
       "output_type": "stream",
       "stream": "stdout",
       "text": [
        "Please enter y data values. Enter \"done\" when finished --> 3\n"
       ]
      },
      {
       "name": "stdout",
       "output_type": "stream",
       "stream": "stdout",
       "text": [
        "Please enter y data values. Enter \"done\" when finished --> 4\n"
       ]
      },
      {
       "name": "stdout",
       "output_type": "stream",
       "stream": "stdout",
       "text": [
        "Please enter y data values. Enter \"done\" when finished --> 5\n"
       ]
      },
      {
       "name": "stdout",
       "output_type": "stream",
       "stream": "stdout",
       "text": [
        "Please enter y data values. Enter \"done\" when finished --> 2\n"
       ]
      },
      {
       "name": "stdout",
       "output_type": "stream",
       "stream": "stdout",
       "text": [
        "Please enter y data values. Enter \"done\" when finished --> 4\n"
       ]
      },
      {
       "name": "stdout",
       "output_type": "stream",
       "stream": "stdout",
       "text": [
        "Please enter y data values. Enter \"done\" when finished --> 3\n"
       ]
      },
      {
       "name": "stdout",
       "output_type": "stream",
       "stream": "stdout",
       "text": [
        "Please enter y data values. Enter \"done\" when finished --> 6\n"
       ]
      },
      {
       "name": "stdout",
       "output_type": "stream",
       "stream": "stdout",
       "text": [
        "Please enter y data values. Enter \"done\" when finished --> 5\n"
       ]
      },
      {
       "name": "stdout",
       "output_type": "stream",
       "stream": "stdout",
       "text": [
        "Please enter y data values. Enter \"done\" when finished --> done\n"
       ]
      },
      {
       "name": "stdout",
       "output_type": "stream",
       "stream": "stdout",
       "text": [
        "Please enter x data values. Enter \"done\" when finished --> 3\n"
       ]
      },
      {
       "name": "stdout",
       "output_type": "stream",
       "stream": "stdout",
       "text": [
        "Please enter x data values. Enter \"done\" when finished --> 2\n"
       ]
      },
      {
       "name": "stdout",
       "output_type": "stream",
       "stream": "stdout",
       "text": [
        "Please enter x data values. Enter \"done\" when finished --> 4\n"
       ]
      },
      {
       "name": "stdout",
       "output_type": "stream",
       "stream": "stdout",
       "text": [
        "Please enter x data values. Enter \"done\" when finished --> 5\n"
       ]
      },
      {
       "name": "stdout",
       "output_type": "stream",
       "stream": "stdout",
       "text": [
        "Please enter x data values. Enter \"done\" when finished --> 6\n"
       ]
      },
      {
       "name": "stdout",
       "output_type": "stream",
       "stream": "stdout",
       "text": [
        "Please enter x data values. Enter \"done\" when finished --> 7\n"
       ]
      },
      {
       "name": "stdout",
       "output_type": "stream",
       "stream": "stdout",
       "text": [
        "Please enter x data values. Enter \"done\" when finished --> 5\n"
       ]
      },
      {
       "name": "stdout",
       "output_type": "stream",
       "stream": "stdout",
       "text": [
        "Please enter x data values. Enter \"done\" when finished --> 4\n"
       ]
      },
      {
       "name": "stdout",
       "output_type": "stream",
       "stream": "stdout",
       "text": [
        "Please enter x data values. Enter \"done\" when finished --> 3\n"
       ]
      },
      {
       "name": "stdout",
       "output_type": "stream",
       "stream": "stdout",
       "text": [
        "Please enter x data values. Enter \"done\" when finished --> 6\n"
       ]
      },
      {
       "name": "stdout",
       "output_type": "stream",
       "stream": "stdout",
       "text": [
        "Please enter x data values. Enter \"done\" when finished --> done\n"
       ]
      },
      {
       "metadata": {},
       "output_type": "display_data",
       "png": "[encoded data removed]",
       "text": [
        "<matplotlib.figure.Figure at 0x107c0c7d0>"
       ]
      }
     ],
     "prompt_number": 24
    },
    {
     "cell_type": "heading",
     "level": 2,
     "metadata": {},
     "source": [
      "Problem 2."
     ]
    },
    {
     "cell_type": "markdown",
     "metadata": {},
     "source": [
      "The answer to this problem is shown in the *for* loop section. As mentioned previously, this level of difficult of this problem is higher than that expected for your class test."
     ]
    },
    {
     "cell_type": "code",
     "collapsed": false,
     "input": [],
     "language": "python",
     "metadata": {},
     "outputs": []
    }
   ],
   "metadata": {}
  }
 ]
}