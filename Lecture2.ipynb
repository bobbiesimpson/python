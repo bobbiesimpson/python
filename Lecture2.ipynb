{
 "metadata": {
  "name": "",
  "signature": "sha256:1fdd6d1f6fb5f3f9198b86af45933513a098703fa3a5e40dc12acfe5c36fd405"
 },
 "nbformat": 3,
 "nbformat_minor": 0,
 "worksheets": [
  {
   "cells": [
    {
     "cell_type": "code",
     "collapsed": false,
     "input": [
      "%matplotlib inline # you do not need this for your code. It is only for notebooks"
     ],
     "language": "python",
     "metadata": {},
     "outputs": []
    },
    {
     "cell_type": "heading",
     "level": 1,
     "metadata": {},
     "source": [
      "Recap from previous lecture"
     ]
    },
    {
     "cell_type": "heading",
     "level": 2,
     "metadata": {},
     "source": [
      "if/elif/else statements"
     ]
    },
    {
     "cell_type": "code",
     "collapsed": false,
     "input": [
      "university = raw_input('Enter your university --> ')\n",
      "\n",
      "if university == 'Glasgow':\n",
      "    print 'good choice'\n",
      "elif university == 'Edinburgh':\n",
      "    print 'relatively good choice'\n",
      "else:\n",
      "    print 'I don\\'t know that university'"
     ],
     "language": "python",
     "metadata": {},
     "outputs": [
      {
       "name": "stdout",
       "output_type": "stream",
       "stream": "stdout",
       "text": [
        "Enter your university --> Glasgow\n"
       ]
      },
      {
       "output_type": "stream",
       "stream": "stdout",
       "text": [
        "good choice\n"
       ]
      }
     ],
     "prompt_number": 1
    },
    {
     "cell_type": "heading",
     "level": 2,
     "metadata": {},
     "source": [
      "for loops"
     ]
    },
    {
     "cell_type": "code",
     "collapsed": false,
     "input": [
      "print \n",
      "for x in range(1,10):\n",
      "    print '%s cubed = %s' % (x, x**3)"
     ],
     "language": "python",
     "metadata": {},
     "outputs": [
      {
       "output_type": "stream",
       "stream": "stdout",
       "text": [
        "\n",
        "1 cubed = 1\n",
        "2 cubed = 8\n",
        "3 cubed = 27\n",
        "4 cubed = 64\n",
        "5 cubed = 125\n",
        "6 cubed = 216\n",
        "7 cubed = 343\n",
        "8 cubed = 512\n",
        "9 cubed = 729\n"
       ]
      }
     ],
     "prompt_number": 2
    },
    {
     "cell_type": "heading",
     "level": 2,
     "metadata": {},
     "source": [
      "while loops"
     ]
    },
    {
     "cell_type": "code",
     "collapsed": false,
     "input": [
      "counter = float(raw_input('Enter counter start value --> '))\n",
      "stop_val = float(raw_input('Enter counter stop value --> '))\n",
      "\n",
      "while counter > stop_val:\n",
      "    print counter\n",
      "    counter -= 2 "
     ],
     "language": "python",
     "metadata": {},
     "outputs": [
      {
       "name": "stdout",
       "output_type": "stream",
       "stream": "stdout",
       "text": [
        "Enter counter start value --> 4\n"
       ]
      },
      {
       "name": "stdout",
       "output_type": "stream",
       "stream": "stdout",
       "text": [
        "Enter counter stop value --> 2\n"
       ]
      },
      {
       "output_type": "stream",
       "stream": "stdout",
       "text": [
        "4.0\n"
       ]
      }
     ],
     "prompt_number": 3
    },
    {
     "cell_type": "heading",
     "level": 2,
     "metadata": {},
     "source": [
      "Functions"
     ]
    },
    {
     "cell_type": "code",
     "collapsed": false,
     "input": [
      "def bending_moment(x,P,L):\n",
      "    return (L - x) * P\n",
      "\n",
      "print bending_moment(0.5, 1.0, 3.0)"
     ],
     "language": "python",
     "metadata": {},
     "outputs": [
      {
       "output_type": "stream",
       "stream": "stdout",
       "text": [
        "2.5\n"
       ]
      }
     ],
     "prompt_number": 4
    },
    {
     "cell_type": "heading",
     "level": 2,
     "metadata": {},
     "source": [
      "Problems seen in student's code during lab sessions"
     ]
    },
    {
     "cell_type": "code",
     "collapsed": false,
     "input": [
      "my variable = 5 # you can't leave a space in a variable name"
     ],
     "language": "python",
     "metadata": {},
     "outputs": []
    },
    {
     "cell_type": "code",
     "collapsed": false,
     "input": [
      "a = '5+4' # you've just defined a string, not an integer\n",
      "print a"
     ],
     "language": "python",
     "metadata": {},
     "outputs": []
    },
    {
     "cell_type": "code",
     "collapsed": false,
     "input": [
      "input = float(raw_input('Enter you\\'re floating point number --> ') # forgot closing parantheses"
     ],
     "language": "python",
     "metadata": {},
     "outputs": []
    },
    {
     "cell_type": "heading",
     "level": 1,
     "metadata": {},
     "source": [
      "Lists, dictionaries and visualisation"
     ]
    },
    {
     "cell_type": "heading",
     "level": 2,
     "metadata": {},
     "source": [
      "Lists"
     ]
    },
    {
     "cell_type": "markdown",
     "metadata": {},
     "source": [
      "Lists are used to store collections of data. They can be used for any kind of data. Let's define a list of integers, floats and strings:"
     ]
    },
    {
     "cell_type": "code",
     "collapsed": false,
     "input": [
      "int_list = [2, 4, 7, 8, 9]\n",
      "float_list = [3.14, 3.2345, 6.345, 7.98]\n",
      "string_list = ['bricks', 'steel', 'mortar']"
     ],
     "language": "python",
     "metadata": {},
     "outputs": [],
     "prompt_number": 5
    },
    {
     "cell_type": "markdown",
     "metadata": {},
     "source": [
      "We can also mix and match:"
     ]
    },
    {
     "cell_type": "code",
     "collapsed": false,
     "input": [
      "hybrid_list = [3, 'pies', 3.45]"
     ],
     "language": "python",
     "metadata": {},
     "outputs": []
    },
    {
     "cell_type": "heading",
     "level": 3,
     "metadata": {},
     "source": [
      "Use of built-in functions with lists"
     ]
    },
    {
     "cell_type": "heading",
     "level": 4,
     "metadata": {},
     "source": [
      "range()"
     ]
    },
    {
     "cell_type": "markdown",
     "metadata": {},
     "source": [
      "A very common way to create a list is to use the built-in function *range()* like so:"
     ]
    },
    {
     "cell_type": "code",
     "collapsed": false,
     "input": [
      "my_list = range(0,10)\n",
      "print my_list"
     ],
     "language": "python",
     "metadata": {},
     "outputs": [
      {
       "output_type": "stream",
       "stream": "stdout",
       "text": [
        "[0, 1, 2, 3, 4, 5, 6, 7, 8, 9]\n"
       ]
      }
     ],
     "prompt_number": 6
    },
    {
     "cell_type": "markdown",
     "metadata": {},
     "source": [
      "This also has a third argument which specifies the *step* we can take:"
     ]
    },
    {
     "cell_type": "code",
     "collapsed": false,
     "input": [
      "my_jump_list = range(0,10,2)\n",
      "print my_jump_list"
     ],
     "language": "python",
     "metadata": {},
     "outputs": [
      {
       "output_type": "stream",
       "stream": "stdout",
       "text": [
        "[0, 2, 4, 6, 8]\n"
       ]
      }
     ],
     "prompt_number": 7
    },
    {
     "cell_type": "heading",
     "level": 4,
     "metadata": {},
     "source": [
      "len()"
     ]
    },
    {
     "cell_type": "markdown",
     "metadata": {},
     "source": [
      "This will return the length of a list which is useful in a variety of situations"
     ]
    },
    {
     "cell_type": "code",
     "collapsed": false,
     "input": [
      "my_list = ['jack', 'jill', 'adrian', 'peter']\n",
      "print 'I have %s students' % len(my_list)"
     ],
     "language": "python",
     "metadata": {},
     "outputs": [
      {
       "output_type": "stream",
       "stream": "stdout",
       "text": [
        "I have 4 students\n"
       ]
      }
     ],
     "prompt_number": 8
    },
    {
     "cell_type": "heading",
     "level": 4,
     "metadata": {},
     "source": [
      "sum()"
     ]
    },
    {
     "cell_type": "markdown",
     "metadata": {},
     "source": [
      "As this function implies, we can sum up all the values in our list. This will not work with a list of strings."
     ]
    },
    {
     "cell_type": "code",
     "collapsed": false,
     "input": [
      "int_list = [2, 4, 7, 8, 9]\n",
      "print sum(int_list)"
     ],
     "language": "python",
     "metadata": {},
     "outputs": [
      {
       "output_type": "stream",
       "stream": "stdout",
       "text": [
        "30\n"
       ]
      }
     ],
     "prompt_number": 9
    },
    {
     "cell_type": "heading",
     "level": 4,
     "metadata": {},
     "source": [
      "map()"
     ]
    },
    {
     "cell_type": "markdown",
     "metadata": {},
     "source": [
      "This comes in handy when you want to perform a function on the values in your list. It is called as map(function, list). For example:"
     ]
    },
    {
     "cell_type": "code",
     "collapsed": false,
     "input": [
      "def myfunc(x):\n",
      "    return x + 1\n",
      "\n",
      "my_list = [1,2,3,4,5]\n",
      "new_list = map(myfunc, my_list)\n",
      "print new_list"
     ],
     "language": "python",
     "metadata": {},
     "outputs": [
      {
       "output_type": "stream",
       "stream": "stdout",
       "text": [
        "[2, 3, 4, 5, 6]\n"
       ]
      }
     ],
     "prompt_number": 10
    },
    {
     "cell_type": "heading",
     "level": 3,
     "metadata": {},
     "source": [
      "Member functions"
     ]
    },
    {
     "cell_type": "markdown",
     "metadata": {},
     "source": [
      "The previous three functions are known as built-in functions and can be used for different variable types. For lists, there are also member functions that are called in the following way: list_name.member_function().\n",
      "\n",
      "Let's consider some of the more common member functions that operate on list:"
     ]
    },
    {
     "cell_type": "heading",
     "level": 4,
     "metadata": {},
     "source": [
      "Access operator"
     ]
    },
    {
     "cell_type": "markdown",
     "metadata": {},
     "source": [
      "This allows us to access individual elements of the list:"
     ]
    },
    {
     "cell_type": "code",
     "collapsed": false,
     "input": [
      "random_list = range(0,20,2)\n",
      "print random_list\n",
      "print random_list[0] # we can access individual values like this\n",
      "print random_list[2]\n",
      "print random_list[6]"
     ],
     "language": "python",
     "metadata": {},
     "outputs": [
      {
       "output_type": "stream",
       "stream": "stdout",
       "text": [
        "[0, 2, 4, 6, 8, 10, 12, 14, 16, 18]\n",
        "0\n",
        "4\n",
        "12\n"
       ]
      }
     ],
     "prompt_number": 11
    },
    {
     "cell_type": "heading",
     "level": 4,
     "metadata": {},
     "source": [
      ".append()"
     ]
    },
    {
     "cell_type": "markdown",
     "metadata": {},
     "source": [
      "As implied, this will add a value to the end of a list:"
     ]
    },
    {
     "cell_type": "code",
     "collapsed": false,
     "input": [
      "my_list = [] # create an empty list\n",
      "my_list.append(3)\n",
      "my_list.append(4)\n",
      "print my_list"
     ],
     "language": "python",
     "metadata": {},
     "outputs": [
      {
       "output_type": "stream",
       "stream": "stdout",
       "text": [
        "[3, 4]\n"
       ]
      }
     ],
     "prompt_number": 12
    },
    {
     "cell_type": "heading",
     "level": 4,
     "metadata": {},
     "source": [
      ".insert()"
     ]
    },
    {
     "cell_type": "markdown",
     "metadata": {},
     "source": [
      "This inserts a value at a given index. All values after the given index will move up one space in the list. For example:"
     ]
    },
    {
     "cell_type": "code",
     "collapsed": false,
     "input": [
      "my_list = [2, 4, 6]\n",
      "my_list.insert(1,8)\n",
      "print my_list"
     ],
     "language": "python",
     "metadata": {},
     "outputs": [
      {
       "output_type": "stream",
       "stream": "stdout",
       "text": [
        "[2, 8, 4, 6]\n"
       ]
      }
     ],
     "prompt_number": 13
    },
    {
     "cell_type": "heading",
     "level": 4,
     "metadata": {},
     "source": [
      ".remove()"
     ]
    },
    {
     "cell_type": "markdown",
     "metadata": {},
     "source": [
      "This will remove the first item with the given value. An error will occur if the value is not in the list. For example:"
     ]
    },
    {
     "cell_type": "code",
     "collapsed": false,
     "input": [
      "my_list = [3,6,9,11]\n",
      "my_list.remove(6) \n",
      "print my_list"
     ],
     "language": "python",
     "metadata": {},
     "outputs": [
      {
       "output_type": "stream",
       "stream": "stdout",
       "text": [
        "[3, 9, 11]\n"
       ]
      }
     ],
     "prompt_number": 14
    },
    {
     "cell_type": "heading",
     "level": 4,
     "metadata": {},
     "source": [
      ".sort()"
     ]
    },
    {
     "cell_type": "markdown",
     "metadata": {},
     "source": [
      "As implied, this sorts the list:"
     ]
    },
    {
     "cell_type": "code",
     "collapsed": false,
     "input": [
      "my_list = [5,4,3,2,1]\n",
      "my_list.sort()\n",
      "print my_list"
     ],
     "language": "python",
     "metadata": {},
     "outputs": [
      {
       "output_type": "stream",
       "stream": "stdout",
       "text": [
        "[1, 2, 3, 4, 5]\n"
       ]
      }
     ],
     "prompt_number": 15
    },
    {
     "cell_type": "heading",
     "level": 4,
     "metadata": {},
     "source": [
      ".reverse()"
     ]
    },
    {
     "cell_type": "markdown",
     "metadata": {},
     "source": [
      "We can reverse the order of our list if required:"
     ]
    },
    {
     "cell_type": "code",
     "collapsed": false,
     "input": [
      "my_list = [1,3,5,7,9,11,13]\n",
      "my_list.reverse()\n",
      "print my_list"
     ],
     "language": "python",
     "metadata": {},
     "outputs": [
      {
       "output_type": "stream",
       "stream": "stdout",
       "text": [
        "[13, 11, 9, 7, 5, 3, 1]\n"
       ]
      }
     ],
     "prompt_number": 16
    },
    {
     "cell_type": "heading",
     "level": 4,
     "metadata": {},
     "source": [
      ".count()"
     ]
    },
    {
     "cell_type": "markdown",
     "metadata": {},
     "source": [
      "This counts the number of times a given element appears in the list. "
     ]
    },
    {
     "cell_type": "code",
     "collapsed": false,
     "input": [
      "another_list = [3.14, 4.345, 3.14, 5.754]\n",
      "pi_count = another_list.count(3.14)\n",
      "print pi_count"
     ],
     "language": "python",
     "metadata": {},
     "outputs": [
      {
       "output_type": "stream",
       "stream": "stdout",
       "text": [
        "2\n"
       ]
      }
     ],
     "prompt_number": 17
    },
    {
     "cell_type": "heading",
     "level": 3,
     "metadata": {},
     "source": [
      "Example"
     ]
    },
    {
     "cell_type": "markdown",
     "metadata": {},
     "source": [
      "Create a program that allows a user to input several numbers as input. We know when input is finished when the user types 'done'. Populate a list with these numbers, sort them and then output the cube of them."
     ]
    },
    {
     "cell_type": "code",
     "collapsed": false,
     "input": [
      "def cubed(x):\n",
      "    return x**3\n",
      "\n",
      "my_list = []\n",
      "while True:\n",
      "    input_data = raw_input('Please enter value --> ')\n",
      "    if input_data == 'done':\n",
      "        break\n",
      "    value = float(input_data)\n",
      "    my_list.append(value)\n",
      "\n",
      "my_list.sort()\n",
      "cubed_list = map(cubed, my_list)\n",
      "print cubed_list\n",
      "print 'We\\'re done'"
     ],
     "language": "python",
     "metadata": {},
     "outputs": [
      {
       "name": "stdout",
       "output_type": "stream",
       "stream": "stdout",
       "text": [
        "Please enter value --> 2\n"
       ]
      },
      {
       "name": "stdout",
       "output_type": "stream",
       "stream": "stdout",
       "text": [
        "Please enter value --> 3\n"
       ]
      },
      {
       "name": "stdout",
       "output_type": "stream",
       "stream": "stdout",
       "text": [
        "Please enter value --> 4\n"
       ]
      },
      {
       "name": "stdout",
       "output_type": "stream",
       "stream": "stdout",
       "text": [
        "Please enter value --> done\n"
       ]
      },
      {
       "output_type": "stream",
       "stream": "stdout",
       "text": [
        "[8.0, 27.0, 64.0]\n",
        "We're done\n"
       ]
      }
     ],
     "prompt_number": 19
    },
    {
     "cell_type": "heading",
     "level": 2,
     "metadata": {},
     "source": [
      "Dictionaries"
     ]
    },
    {
     "cell_type": "markdown",
     "metadata": {},
     "source": [
      "These are much like lists but now we can specify keys for accessing items in the list. As an initial way to think of it, imagine it like a phone book which can be constructed like so:"
     ]
    },
    {
     "cell_type": "code",
     "collapsed": false,
     "input": [
      "my_dict = {'james' : 3354356, 'fiona' : 3354328, 'david' : 3245438}\n",
      "print my_dict"
     ],
     "language": "python",
     "metadata": {},
     "outputs": [
      {
       "output_type": "stream",
       "stream": "stdout",
       "text": [
        "{'fiona': 3354328, 'james': 3354356, 'david': 3245438}\n"
       ]
      }
     ],
     "prompt_number": 26
    },
    {
     "cell_type": "markdown",
     "metadata": {},
     "source": [
      "This sometimes makes it more handy for accessing items in your code:"
     ]
    },
    {
     "cell_type": "code",
     "collapsed": false,
     "input": [
      "my_dict = {'james' : 3354356, 'fiona' : 3354328, 'david' : 3245438}\n",
      "print my_dict['james']\n",
      "print my_dict['david']\n"
     ],
     "language": "python",
     "metadata": {},
     "outputs": [
      {
       "output_type": "stream",
       "stream": "stdout",
       "text": [
        "3354356\n",
        "3245438\n"
       ]
      }
     ],
     "prompt_number": 34
    },
    {
     "cell_type": "heading",
     "level": 4,
     "metadata": {},
     "source": [
      "Looping over dictionaries"
     ]
    },
    {
     "cell_type": "markdown",
     "metadata": {},
     "source": [
      "We can loop over all items in a dictionary like so:"
     ]
    },
    {
     "cell_type": "code",
     "collapsed": false,
     "input": [
      "my_dict = {'james' : 3354356, 'fiona' : 3354328, 'david' : 3245438}\n",
      "for (k,v) in my_dict.iteritems():\n",
      "    print 'name: %s and phone number: %s' % (k,v)"
     ],
     "language": "python",
     "metadata": {},
     "outputs": [
      {
       "output_type": "stream",
       "stream": "stdout",
       "text": [
        "name: fiona and phone number: 3354328\n",
        "name: james and phone number: 3354356\n",
        "name: david and phone number: 3245438\n"
       ]
      }
     ],
     "prompt_number": 33
    },
    {
     "cell_type": "heading",
     "level": 4,
     "metadata": {},
     "source": [
      "Lists in dictionaries"
     ]
    },
    {
     "cell_type": "code",
     "collapsed": false,
     "input": [
      "import numpy as np\n",
      "river_levels = {'Kelvin' : [2.34, 2.3456, 2.567, 2.897], \n",
      "               'Clyde' : [5.234, 5.234, 5.23455, 5.345],\n",
      "               'White Cart' : [1.234, 1.455, 1.234, 1.4556] }\n",
      "print river_levels['Clyde']\n",
      "print np.mean(river_levels['Clyde']) "
     ],
     "language": "python",
     "metadata": {},
     "outputs": [
      {
       "output_type": "stream",
       "stream": "stdout",
       "text": [
        "[5.234, 5.234, 5.23455, 5.345]\n",
        "5.2618875\n"
       ]
      }
     ],
     "prompt_number": 37
    },
    {
     "cell_type": "markdown",
     "metadata": {},
     "source": [
      "For those interested in more mathematical functions provided by the numpy library (e.g. standard deviation, etc.) see http://docs.scipy.org/doc/numpy/reference/routines.statistics.html"
     ]
    },
    {
     "cell_type": "heading",
     "level": 3,
     "metadata": {},
     "source": [
      "Visualisation (plotting)"
     ]
    },
    {
     "cell_type": "markdown",
     "metadata": {},
     "source": [
      "Let's now look at how we produce plots using the matplotlib library"
     ]
    },
    {
     "cell_type": "heading",
     "level": 3,
     "metadata": {},
     "source": [
      "Scatter plots"
     ]
    },
    {
     "cell_type": "code",
     "collapsed": false,
     "input": [
      "import matplotlib.pyplot as ppt\n",
      "\n",
      "x = [1.0, 2.0, 3.45, 4.0, 2.0, 5.0]\n",
      "y = [3.0, 9.0, 8.4, 4.0, 4.0, 2.0]\n",
      "\n",
      "ppt.scatter(x,y, label='scatter plot')\n",
      "ppt.xlabel('x')\n",
      "ppt.ylabel('y')\n",
      "ppt.legend(loc='upper left')\n",
      "ppt.show()"
     ],
     "language": "python",
     "metadata": {},
     "outputs": [
      {
       "metadata": {},
       "output_type": "display_data",
       "png": "[encoded data removed]",
       "text": [
        "<matplotlib.figure.Figure at 0x10866fc10>"
       ]
      }
     ],
     "prompt_number": 21
    },
    {
     "cell_type": "code",
     "collapsed": false,
     "input": [
      "import matplotlib.pyplot as ppt\n",
      "import numpy as np\n",
      "\n",
      "def bm(x, L, w):\n",
      "    return -0.5 * w * L * x + w * x * x / 2.0\n",
      "\n",
      "def sf(x, L, w):\n",
      "    return -0.5 * w * L + w * x\n",
      "\n",
      "L = float(raw_input('Please enter length of beam (m) --> '))\n",
      "w = float(raw_input('Please enter u.d.l. --> '))\n",
      "\n",
      "x = np.arange(0.0, L, 0.001)\n",
      "s_vals = sf(x, L, w)\n",
      "b_vals = bm(x,L,w)\n",
      "ppt.plot(x, bm(x,L,w), color='orange', lw=2, label='bending moment (kNm)')\n",
      "ppt.plot(x, sf(x,L,w), color='red', lw=2, alpha=0.2, label='shear force (kN)')\n",
      "ppt.fill_between(x, 0, bm(x, L, w), color='orange')\n",
      "ppt.fill_between(x, 0, sf(x, L, w), color='red', alpha=0.2)\n",
      "ppt.grid(True)\n",
      "ppt.legend(loc='upper left')\n",
      "ppt.show()"
     ],
     "language": "python",
     "metadata": {},
     "outputs": [
      {
       "name": "stdout",
       "output_type": "stream",
       "stream": "stdout",
       "text": [
        "Please enter length of beam (m) --> 2\n"
       ]
      },
      {
       "name": "stdout",
       "output_type": "stream",
       "stream": "stdout",
       "text": [
        "Please enter u.d.l. --> 3\n"
       ]
      },
      {
       "metadata": {},
       "output_type": "display_data",
       "png": "[encoded data removed]",
       "text": [
        "<matplotlib.figure.Figure at 0x1087f4110>"
       ]
      }
     ],
     "prompt_number": 38
    },
    {
     "cell_type": "heading",
     "level": 2,
     "metadata": {},
     "source": [
      "Bar charts"
     ]
    },
    {
     "cell_type": "code",
     "collapsed": false,
     "input": [
      "import matplotlib.pyplot as ppt\n",
      "import numpy as np\n",
      "\n",
      "data_names = ['one', 'two', 'three', 'four']\n",
      "data = [3.4, 5.2, 6.2, 1.0]\n",
      "\n",
      "x = range(len(data))\n",
      "ppt.bar(x, data, align='center')\n",
      "ppt.xticks(x, data_names)\n",
      "ppt.ylabel('y data')\n",
      "ppt.show()"
     ],
     "language": "python",
     "metadata": {},
     "outputs": [
      {
       "metadata": {},
       "output_type": "display_data",
       "png": "[encoded data removed]",
       "text": [
        "<matplotlib.figure.Figure at 0x1087cf290>"
       ]
      }
     ],
     "prompt_number": 22
    },
    {
     "cell_type": "heading",
     "level": 2,
     "metadata": {},
     "source": [
      "Line plots"
     ]
    },
    {
     "cell_type": "code",
     "collapsed": false,
     "input": [
      "import matplotlib.pyplot as ppt\n",
      "import numpy as np\n",
      "\n",
      "xdata = [0,1,2,4,5,6,7]\n",
      "ydata = [2,2,4,5,6,7,8]\n",
      "ppt.plot(xdata, ydata, 'bo-')\n",
      "ppt.axis([-1,8,1,9])\n",
      "ppt.xlabel('x data')\n",
      "ppt.ylabel('y data')\n",
      "ppt.show()"
     ],
     "language": "python",
     "metadata": {},
     "outputs": [
      {
       "metadata": {},
       "output_type": "display_data",
       "png": "[encoded data removed]",
       "text": [
        "<matplotlib.figure.Figure at 0x1088fa2d0>"
       ]
      }
     ],
     "prompt_number": 23
    },
    {
     "cell_type": "markdown",
     "metadata": {},
     "source": [
      "Further examples can be found on the matplotlib gallery website http://matplotlib.org/gallery.html"
     ]
    },
    {
     "cell_type": "heading",
     "level": 2,
     "metadata": {},
     "source": [
      "Example"
     ]
    },
    {
     "cell_type": "markdown",
     "metadata": {},
     "source": [
      "Let's now put all of this together. We want to produce the bending moment and shear force diagram for a simply supported beam with a point load at midspan."
     ]
    },
    {
     "cell_type": "code",
     "collapsed": false,
     "input": [
      "import matplotlib.pyplot as ppt\n",
      "import numpy as np\n",
      "\n",
      "L = float(raw_input('Please enter length of beam (m) --> '))\n",
      "P = float(raw_input('Please enter load at midspan (kN) --> '))\n",
      "\n",
      "def bm(x, L, P):\n",
      "    bm_vals = []\n",
      "    for val in x:\n",
      "        if val <= L / 2:\n",
      "            bm_vals.append(-P * val / 2)\n",
      "        else:\n",
      "            bm_vals.append(-(L - val) * P / 2)\n",
      "    return bm_vals\n",
      "\n",
      "x = np.arange(0, L, 0.01)\n",
      "ppt.plot(x, bm(x,L,P), label='bending moment')\n",
      "ppt.legend(loc='upper left')\n",
      "ppt.xlabel('x (m)')\n",
      "ppt.ylabel('B.M. (kNm)')\n",
      "ppt.show()"
     ],
     "language": "python",
     "metadata": {},
     "outputs": [
      {
       "name": "stdout",
       "output_type": "stream",
       "stream": "stdout",
       "text": [
        "Please enter length of beam (m) --> 4\n"
       ]
      },
      {
       "name": "stdout",
       "output_type": "stream",
       "stream": "stdout",
       "text": [
        "Please enter load at midspan (kN) --> 2\n"
       ]
      },
      {
       "metadata": {},
       "output_type": "display_data",
       "png": "[encoded data removed]",
       "text": [
        "<matplotlib.figure.Figure at 0x1086de450>"
       ]
      }
     ],
     "prompt_number": 24
    },
    {
     "cell_type": "code",
     "collapsed": false,
     "input": [],
     "language": "python",
     "metadata": {},
     "outputs": []
    }
   ],
   "metadata": {}
  }
 ]
}