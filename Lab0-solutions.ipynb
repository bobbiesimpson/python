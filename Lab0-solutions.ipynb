{
 "metadata": {
  "name": "",
  "signature": "sha256:3f995feba012f953268376224a132fd68ef0d833a3538edd6f41a6f85588ff0d"
 },
 "nbformat": 3,
 "nbformat_minor": 0,
 "worksheets": [
  {
   "cells": [
    {
     "cell_type": "heading",
     "level": 1,
     "metadata": {},
     "source": [
      "Lab. 0 Solutions to exercises"
     ]
    },
    {
     "cell_type": "heading",
     "level": 2,
     "metadata": {},
     "source": [
      "Strings"
     ]
    },
    {
     "cell_type": "heading",
     "level": 3,
     "metadata": {},
     "source": [
      "Question 1"
     ]
    },
    {
     "cell_type": "code",
     "collapsed": false,
     "input": [
      "s1 = 'today ' # note space\n",
      "s2 = 'is '\n",
      "s3 = 'Friday'\n",
      "total_string = s1 + s2 + s3 # using small variable names can save typing!\n",
      "print total_string"
     ],
     "language": "python",
     "metadata": {},
     "outputs": [
      {
       "output_type": "stream",
       "stream": "stdout",
       "text": [
        "today is Friday\n"
       ]
      }
     ],
     "prompt_number": 4
    },
    {
     "cell_type": "heading",
     "level": 3,
     "metadata": {},
     "source": [
      "Question 2"
     ]
    },
    {
     "cell_type": "code",
     "collapsed": false,
     "input": [
      "rtext = 'I can\\'t wait for the weekend!' # notice backslash before the '\n",
      "print 'My string value is %s:' % rtext"
     ],
     "language": "python",
     "metadata": {},
     "outputs": [
      {
       "output_type": "stream",
       "stream": "stdout",
       "text": [
        "My string value is I can't wait for the weekend!\n"
       ]
      }
     ],
     "prompt_number": 3
    },
    {
     "cell_type": "heading",
     "level": 3,
     "metadata": {},
     "source": [
      "Question 3"
     ]
    },
    {
     "cell_type": "code",
     "collapsed": false,
     "input": [
      "s1 = 'dogs'\n",
      "s2 = 'cats'\n",
      "s3 = 'goldfish'\n",
      "print 'The value of my three strings are: %s, %s, %s' % (s1, s2, s3)"
     ],
     "language": "python",
     "metadata": {},
     "outputs": [
      {
       "output_type": "stream",
       "stream": "stdout",
       "text": [
        "The value of my three strings are: dogs, cats, goldfish\n"
       ]
      }
     ],
     "prompt_number": 5
    },
    {
     "cell_type": "heading",
     "level": 2,
     "metadata": {},
     "source": [
      "Integers"
     ]
    },
    {
     "cell_type": "heading",
     "level": 3,
     "metadata": {},
     "source": [
      "Question 1"
     ]
    },
    {
     "cell_type": "code",
     "collapsed": false,
     "input": [
      "int_divide = 10 / 3\n",
      "float_divide = 10 / 3.0\n",
      "print 'Integer division gives: %s and float divide gives: %s' % (int_divide, float_divide)"
     ],
     "language": "python",
     "metadata": {},
     "outputs": [
      {
       "output_type": "stream",
       "stream": "stdout",
       "text": [
        "Integer division gives: 3 and float divide gives: 3.33333333333\n"
       ]
      }
     ],
     "prompt_number": 6
    },
    {
     "cell_type": "markdown",
     "metadata": {},
     "source": [
      "In some cases we may wish to work with whole numbers (integers) e.g. when counting items. But in other cases we must work with floating point numbers such as calculating areas, forces, stresses etc. "
     ]
    },
    {
     "cell_type": "heading",
     "level": 3,
     "metadata": {},
     "source": [
      "Question 2"
     ]
    },
    {
     "cell_type": "code",
     "collapsed": false,
     "input": [
      "r = 99 % 10\n",
      "print 'Remainder = %s' % r"
     ],
     "language": "python",
     "metadata": {},
     "outputs": [
      {
       "output_type": "stream",
       "stream": "stdout",
       "text": [
        "Remainder = 9\n"
       ]
      }
     ],
     "prompt_number": 8
    },
    {
     "cell_type": "heading",
     "level": 3,
     "metadata": {},
     "source": [
      "Question 3"
     ]
    },
    {
     "cell_type": "code",
     "collapsed": false,
     "input": [
      "nrows = 23\n",
      "seats_per_row = 13\n",
      "total_seats = nrows * seats_per_row\n",
      "nstudents = 312\n",
      "extra = nstudents % total_seats\n",
      "print 'Students with no seats = %s' % extra"
     ],
     "language": "python",
     "metadata": {},
     "outputs": [
      {
       "output_type": "stream",
       "stream": "stdout",
       "text": [
        "Students with no seats = 13\n"
       ]
      }
     ],
     "prompt_number": 9
    },
    {
     "cell_type": "heading",
     "level": 3,
     "metadata": {},
     "source": [
      "Question 4"
     ]
    },
    {
     "cell_type": "code",
     "collapsed": false,
     "input": [
      "nrows = 23\n",
      "seats_per_row = 13\n",
      "total_seats = nrows * seats_per_row\n",
      "nstudents = 237\n",
      "full_rows = nstudents / seats_per_row\n",
      "students_last_row = nstudents % seats_per_row\n",
      "print 'There are %s full rows and %s students in the last row' % (full_rows, students_last_row)"
     ],
     "language": "python",
     "metadata": {},
     "outputs": [
      {
       "output_type": "stream",
       "stream": "stdout",
       "text": [
        "There are 18 full rows and 3 students in the last row\n"
       ]
      }
     ],
     "prompt_number": 13
    },
    {
     "cell_type": "heading",
     "level": 2,
     "metadata": {},
     "source": [
      "Floats"
     ]
    },
    {
     "cell_type": "heading",
     "level": 3,
     "metadata": {},
     "source": [
      "Question 1"
     ]
    },
    {
     "cell_type": "code",
     "collapsed": false,
     "input": [
      "x = 1.4142 # approximately sqrt(2)\n",
      "x2 = x**2\n",
      "x3 = x**3\n",
      "x99 = x**99\n",
      "print 'x^2 = %s, x^3 = %s, x^99 = %s' % (x2, x3, x99)"
     ],
     "language": "python",
     "metadata": {},
     "outputs": [
      {
       "output_type": "stream",
       "stream": "stdout",
       "text": [
        "x^2 = 1.99996164, x^3 = 2.82834575129, x^99 = 7.9537595535e+14\n"
       ]
      }
     ],
     "prompt_number": 14
    },
    {
     "cell_type": "heading",
     "level": 3,
     "metadata": {},
     "source": [
      "Question 2"
     ]
    },
    {
     "cell_type": "code",
     "collapsed": false,
     "input": [
      "b = 12.3\n",
      "d = 25.4\n",
      "I = b * d**3 / 12.0\n",
      "print 'Second moment of area for beam with dimensions b = %s, d = %s is I = %s' % (b,d,I)"
     ],
     "language": "python",
     "metadata": {},
     "outputs": [
      {
       "output_type": "stream",
       "stream": "stdout",
       "text": [
        "Second moment of area for beam with dimensions b = 12.3, d = 25.4 is I = 16796.7406\n"
       ]
      }
     ],
     "prompt_number": 15
    },
    {
     "cell_type": "heading",
     "level": 3,
     "metadata": {},
     "source": [
      "Question 3"
     ]
    },
    {
     "cell_type": "code",
     "collapsed": false,
     "input": [
      "r = 2.34\n",
      "pi = 3.14159 # approximate value of pi\n",
      "sphere_area = 4.0 * pi * r**2\n",
      "print 'Surface area of sphere with radius %s equals: %s' % (r, sphere_area)"
     ],
     "language": "python",
     "metadata": {},
     "outputs": [
      {
       "output_type": "stream",
       "stream": "stdout",
       "text": [
        "Surface area of sphere with radius 2.34 equals: 68.808360816\n"
       ]
      }
     ],
     "prompt_number": 16
    },
    {
     "cell_type": "heading",
     "level": 2,
     "metadata": {},
     "source": [
      "More difficult problems"
     ]
    },
    {
     "cell_type": "heading",
     "level": 3,
     "metadata": {},
     "source": [
      "Problem 1"
     ]
    },
    {
     "cell_type": "code",
     "collapsed": false,
     "input": [
      "L = float(raw_input('Please enter the length of the cantilever beam (m) --> '))\n",
      "P = float(raw_input('Please enter the load (kN) imposed at the free end --> '))\n",
      "\n",
      "max_bm = P * L\n",
      "max_q = P\n",
      "\n",
      "print 'Your cantilever beam has a maximum b.m. of %s kNm and maximum shear force of %s kN' % (max_bm, max_q)"
     ],
     "language": "python",
     "metadata": {},
     "outputs": [
      {
       "name": "stdout",
       "output_type": "stream",
       "stream": "stdout",
       "text": [
        "Please enter the length of the cantilever beam (m) --> 2.0\n"
       ]
      },
      {
       "name": "stdout",
       "output_type": "stream",
       "stream": "stdout",
       "text": [
        "Please enter the load (kN) imposed at the free end --> 1\n"
       ]
      },
      {
       "output_type": "stream",
       "stream": "stdout",
       "text": [
        "Your cantilever beam has a maximum b.m. of 2.0 kNm and maximum shear force of 1.0 kN\n"
       ]
      }
     ],
     "prompt_number": 19
    },
    {
     "cell_type": "heading",
     "level": 3,
     "metadata": {},
     "source": [
      "Problem 2"
     ]
    },
    {
     "cell_type": "code",
     "collapsed": false,
     "input": [
      "import math # we can use handy functions from the math library\n",
      "# see https://docs.python.org/3/library/math.html for a full list\n",
      "\n",
      "x = float(raw_input('Please enter value of x --> '))\n",
      "approx_sin = (x - x**3 / math.factorial(3) + x**5 / math.factorial(5) \n",
      "              - x**7 / math.factorial(7) + x**9 / math.factorial(9))\n",
      "approx_cos = (1 - x**2 / math.factorial(2) + x**4 / math.factorial(4) \n",
      "              - x**6 / math.factorial(6) + x**8 / math.factorial(8))\n",
      "approx_tan = approx_sin / approx_cos\n",
      "print 'Approximate value of sin(%s) = %s' % (x, approx_sin)\n",
      "print 'Exact value of sin(%s) = %s' % (x, math.sin(x))\n",
      "\n",
      "print 'Approximate value of cos(%s) = %s' % (x, approx_cos)\n",
      "print 'Exact value of cos(%s) = %s' % (x, math.cos(x))\n",
      "\n",
      "print 'Approximate value of tan(%s) = %s' % (x, approx_tan)\n",
      "print 'Exact value of tan(%s) = %s' % (x, math.tan(x))"
     ],
     "language": "python",
     "metadata": {},
     "outputs": [
      {
       "name": "stdout",
       "output_type": "stream",
       "stream": "stdout",
       "text": [
        "Please enter value of x --> 0.2\n"
       ]
      },
      {
       "output_type": "stream",
       "stream": "stdout",
       "text": [
        "Approximate value of sin(0.2) = 0.198669330795\n",
        "Exact value of sin(0.2) = 0.198669330795\n",
        "Approximate value of cos(0.2) = 0.980066577841\n",
        "Exact value of cos(0.2) = 0.980066577841\n",
        "Approximate value of tan(0.2) = 0.202710035509\n",
        "Exact value of tan(0.2) = 0.202710035509\n"
       ]
      }
     ],
     "prompt_number": 22
    },
    {
     "cell_type": "heading",
     "level": 3,
     "metadata": {},
     "source": [
      "Problem 3"
     ]
    },
    {
     "cell_type": "code",
     "collapsed": false,
     "input": [
      "L = float(raw_input('Please enter the length of the cantilever beam (m) --> '))\n",
      "P = float(raw_input('Please enter the load (kN) imposed at the free end --> '))\n",
      "b = float(raw_input('Please enter breadth of cross section (m) --> '))\n",
      "d = float(raw_input('Please enter depth of cross section (m) --> '))\n",
      "x = float(raw_input('Please enter distance (m) from LHS support to sample bending stress --> '))\n",
      "\n",
      "# Note: this program assumes 0 <= x <= L\n",
      "\n",
      "bm_x = (L - x) * P # bending moment at position x\n",
      "I = b * d**3 / 12.0 # second moment of area\n",
      "sigma_bx = bm_x * (d / 2.0) / I\n",
      "print 'Max. bending stress at x = %s equals: %s x 10^3 N/m^2' % (x, sigma_bx)"
     ],
     "language": "python",
     "metadata": {},
     "outputs": [
      {
       "name": "stdout",
       "output_type": "stream",
       "stream": "stdout",
       "text": [
        "Please enter the length of the cantilever beam (m) --> 2\n"
       ]
      },
      {
       "name": "stdout",
       "output_type": "stream",
       "stream": "stdout",
       "text": [
        "Please enter the load (kN) imposed at the free end --> 2\n"
       ]
      },
      {
       "name": "stdout",
       "output_type": "stream",
       "stream": "stdout",
       "text": [
        "Please enter breadth of cross section (m) --> 0.25\n"
       ]
      },
      {
       "name": "stdout",
       "output_type": "stream",
       "stream": "stdout",
       "text": [
        "Please enter depth of cross section (m) --> 0.5\n"
       ]
      },
      {
       "name": "stdout",
       "output_type": "stream",
       "stream": "stdout",
       "text": [
        "Please enter distance (m) from LHS support to sample bending stress --> 1.5\n"
       ]
      },
      {
       "output_type": "stream",
       "stream": "stdout",
       "text": [
        "Max. bending stress at x = 1.5 equals: 96.0 x 10^3 N/m^2\n"
       ]
      }
     ],
     "prompt_number": 27
    },
    {
     "cell_type": "code",
     "collapsed": false,
     "input": [],
     "language": "python",
     "metadata": {},
     "outputs": []
    }
   ],
   "metadata": {}
  }
 ]
}