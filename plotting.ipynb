{
 "metadata": {
  "name": "",
  "signature": "sha256:9468dac641fda56b7b0803faf5b6c2a7cb3a8821f0775f6e807b44db5a65a392"
 },
 "nbformat": 3,
 "nbformat_minor": 0,
 "worksheets": [
  {
   "cells": [
    {
     "cell_type": "code",
     "collapsed": false,
     "input": [
      "%matplotlib inline"
     ],
     "language": "python",
     "metadata": {},
     "outputs": [],
     "prompt_number": 1
    },
    {
     "cell_type": "code",
     "collapsed": false,
     "input": [
      "\n",
      "import matplotlib.pyplot as ppt\n",
      "import numpy as np\n",
      "\n",
      "def bm(x, L, P):\n",
      "    return -P * (L - x)\n",
      "\n",
      "def sf(x, L, P):\n",
      "    return -P\n",
      "\n",
      "L = float(raw_input('Please enter length of beam (m) --> '))\n",
      "P = float(raw_input('Please enter Point load --> '))\n",
      "\n",
      "x = np.arange(0.0, L, 0.1)\n",
      "print x\n",
      "bm_vals = bm(x,L,P)\n",
      "print bm_vals\n",
      "\n",
      "ppt.plot(x, bm(x, L, P))\n",
      "ppt.show()"
     ],
     "language": "python",
     "metadata": {},
     "outputs": [
      {
       "name": "stdout",
       "output_type": "stream",
       "stream": "stdout",
       "text": [
        "Please enter length of beam (m) --> 1.0\n"
       ]
      },
      {
       "name": "stdout",
       "output_type": "stream",
       "stream": "stdout",
       "text": [
        "Please enter u.d.l. --> 1.0\n"
       ]
      },
      {
       "output_type": "stream",
       "stream": "stdout",
       "text": [
        "[ 0.   0.1  0.2  0.3  0.4  0.5  0.6  0.7  0.8  0.9]\n",
        "[-1.  -0.9 -0.8 -0.7 -0.6 -0.5 -0.4 -0.3 -0.2 -0.1]\n"
       ]
      },
      {
       "metadata": {},
       "output_type": "display_data",
       "png": "[encoded data removed]",
       "text": [
        "<matplotlib.figure.Figure at 0x108934c50>"
       ]
      }
     ],
     "prompt_number": 8
    },
    {
     "cell_type": "code",
     "collapsed": false,
     "input": [
      "import matplotlib.pyplot as ppt\n",
      "import numpy as np\n",
      "\n",
      "data = {'john': [0.2, 0.4, 0.5],\n",
      "        'heather': [0.2, 0.4, 0.5]}\n",
      "\n",
      "print np.mean(data['john'])\n",
      "print np.max(data['john'])\n",
      "print np.min(data['john'])\n",
      "\n",
      "ppt.plot(data['john'])\n",
      "ppt.show()"
     ],
     "language": "python",
     "metadata": {},
     "outputs": [
      {
       "output_type": "stream",
       "stream": "stdout",
       "text": [
        "0.366666666667\n",
        "0.5\n",
        "0.2\n"
       ]
      },
      {
       "metadata": {},
       "output_type": "display_data",
       "png": "[encoded data removed]",
       "text": [
        "<matplotlib.figure.Figure at 0x107c03e90>"
       ]
      }
     ],
     "prompt_number": 4
    },
    {
     "cell_type": "code",
     "collapsed": false,
     "input": [],
     "language": "python",
     "metadata": {},
     "outputs": [],
     "prompt_number": 3
    }
   ],
   "metadata": {}
  }
 ]
}