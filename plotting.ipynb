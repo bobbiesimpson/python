{
 "metadata": {
  "name": "",
  "signature": "sha256:d09b7c5076c62ac7ab239afa3a8af55b18629f507301b01e0d423cec48d8be39"
 },
 "nbformat": 3,
 "nbformat_minor": 0,
 "worksheets": [
  {
   "cells": [
    {
     "cell_type": "code",
     "collapsed": false,
     "input": [
      "%matplotlib inline\n",
      "import matplotlib.pyplot as ppt\n",
      "import numpy as np\n",
      "\n",
      "def bm(x, L, w):\n",
      "    return -0.5 * w * L * x + w * x * x / 2.0\n",
      "\n",
      "def sf(x, L, w):\n",
      "    return -0.5 * w * L + w * x\n",
      "\n",
      "L = float(raw_input('Please enter length of beam (m) --> '))\n",
      "w = float(raw_input('Please enter u.d.l. --> '))\n",
      "\n",
      "x = np.arange(0.0, L, 0.001)\n",
      "s_vals = sf(x, L, w)\n",
      "b_vals = bm(x,L,w)\n",
      "ppt.fill_between(x, 0, bm(x, L, w), color='orange')\n",
      "ppt.fill_between(x, 0, sf(x, L, w), color='red', alpha=0.2)\n",
      "ppt.grid(True)\n",
      "ppt.show()"
     ],
     "language": "python",
     "metadata": {},
     "outputs": [
      {
       "name": "stdout",
       "output_type": "stream",
       "stream": "stdout",
       "text": [
        "Please enter length of beam (m) --> 1.0\n"
       ]
      },
      {
       "name": "stdout",
       "output_type": "stream",
       "stream": "stdout",
       "text": [
        "Please enter u.d.l. --> 1.0\n"
       ]
      },
      {
       "metadata": {},
       "output_type": "display_data",
       "png": "[encoded data removed]",
       "text": [
        "<matplotlib.figure.Figure at 0x1090fc590>"
       ]
      }
     ],
     "prompt_number": 29
    },
    {
     "cell_type": "code",
     "collapsed": false,
     "input": [],
     "language": "python",
     "metadata": {},
     "outputs": []
    }
   ],
   "metadata": {}
  }
 ]
}