{
 "metadata": {
  "name": "",
  "signature": "sha256:bf7a85fddb837b4f00c3cbff3a40598d89032a97a34b46b7bfbd2bf80b427dd0"
 },
 "nbformat": 3,
 "nbformat_minor": 0,
 "worksheets": [
  {
   "cells": [
    {
     "cell_type": "heading",
     "level": 1,
     "metadata": {},
     "source": [
      "Lecture 1: Control flow, loops and functions"
     ]
    },
    {
     "cell_type": "heading",
     "level": 2,
     "metadata": {},
     "source": [
      "Booleans"
     ]
    },
    {
     "cell_type": "markdown",
     "metadata": {},
     "source": [
      "Before we start with control flow, let's introduce a new variable type called the *boolean*. This is used to signifiy if something is *true* or *false*"
     ]
    },
    {
     "cell_type": "code",
     "collapsed": false,
     "input": [
      "hungry = True\n",
      "thirsty = False\n",
      "print 'Am I hungry? %s. Am I thirsty? %s.' % (hungry, thirsty)"
     ],
     "language": "python",
     "metadata": {},
     "outputs": [
      {
       "output_type": "stream",
       "stream": "stdout",
       "text": [
        "Am I hungry? True. Am I thirsty? False.\n"
       ]
      }
     ],
     "prompt_number": 1
    },
    {
     "cell_type": "heading",
     "level": 2,
     "metadata": {},
     "source": [
      "The *if/else* statement"
     ]
    },
    {
     "cell_type": "markdown",
     "metadata": {},
     "source": [
      "The if/else statement is used to make decisions based on the value of a variable. The general format of the if/else statement is as follows:"
     ]
    },
    {
     "cell_type": "code",
     "collapsed": false,
     "input": [
      "hungry = False\n",
      "\n",
      "if hungry:\n",
      "    print 'I am very hungry'\n",
      "else:\n",
      "    print 'I am fine. No food for me please.'"
     ],
     "language": "python",
     "metadata": {},
     "outputs": [
      {
       "output_type": "stream",
       "stream": "stdout",
       "text": [
        "I am fine. No food for me please.\n"
       ]
      }
     ],
     "prompt_number": 2
    },
    {
     "cell_type": "markdown",
     "metadata": {},
     "source": [
      "The if statement expects an expression which is either True or False. This can be formed in many ways."
     ]
    },
    {
     "cell_type": "markdown",
     "metadata": {},
     "source": [
      "For instance, what if we want to check if a value is greater than, or less than another value? This is simple:"
     ]
    },
    {
     "cell_type": "code",
     "collapsed": false,
     "input": [
      "x = 2\n",
      "\n",
      "if x > 0:\n",
      "    print 'x is a positive number'\n",
      "    \n",
      "y = -4\n",
      "\n",
      "if y < 0:\n",
      "    print 'y is a negative number.'"
     ],
     "language": "python",
     "metadata": {},
     "outputs": [
      {
       "output_type": "stream",
       "stream": "stdout",
       "text": [
        "x is a positive number\n",
        "y is a negative number.\n"
       ]
      }
     ],
     "prompt_number": 3
    },
    {
     "cell_type": "markdown",
     "metadata": {},
     "source": [
      "We can also make use of the operators >= (greater than or equal) and <= (less than or equal). "
     ]
    },
    {
     "cell_type": "code",
     "collapsed": false,
     "input": [
      "frequency = 12\n",
      "\n",
      "if frequency <= 12: # we check if the frequency is less than or equal to 12\n",
      "    print 'Vibration is under control.'\n",
      "else:\n",
      "    print 'Vibration is excessive. Action required!'"
     ],
     "language": "python",
     "metadata": {},
     "outputs": [
      {
       "output_type": "stream",
       "stream": "stdout",
       "text": [
        "Vibration is under control.\n"
       ]
      }
     ],
     "prompt_number": 4
    },
    {
     "cell_type": "code",
     "collapsed": false,
     "input": [
      "max_students = 156\n",
      "student_count = 155\n",
      "\n",
      "if student_count >= max_students:\n",
      "    print 'Too many students. Get rid of some.'\n",
      "else:\n",
      "    print 'Ok student number. Proceed with lecture.'"
     ],
     "language": "python",
     "metadata": {},
     "outputs": [
      {
       "output_type": "stream",
       "stream": "stdout",
       "text": [
        "Ok student number. Proceed with lecture.\n"
       ]
      }
     ],
     "prompt_number": 5
    },
    {
     "cell_type": "heading",
     "level": 3,
     "metadata": {},
     "source": [
      "!= and == operators"
     ]
    },
    {
     "cell_type": "markdown",
     "metadata": {},
     "source": [
      "We commonly want to check if something is not equal to another value. This is achieved with !="
     ]
    },
    {
     "cell_type": "code",
     "collapsed": false,
     "input": [
      "days_in_feb = 29 # number of days in february\n",
      "\n",
      "if days_in_feb != 29:\n",
      "    print 'We are not in a leap year'\n",
      "else:\n",
      "    print 'We are in a leap year.'\n"
     ],
     "language": "python",
     "metadata": {},
     "outputs": [
      {
       "output_type": "stream",
       "stream": "stdout",
       "text": [
        "We are in a leap year.\n"
       ]
      }
     ],
     "prompt_number": 6
    },
    {
     "cell_type": "markdown",
     "metadata": {},
     "source": [
      "And similarly, we check if something is equal by using the == operator. Take note, *this is not the same as the = (assignment) operator*"
     ]
    },
    {
     "cell_type": "code",
     "collapsed": false,
     "input": [
      "rankine_room = 635\n",
      "\n",
      "if rankine_room == 634:\n",
      "    print 'You\\'ve reached Dr. Simpson\\'s room.'\n",
      "else:\n",
      "    print 'You\\'ve reached some random professor\\'s room. Go away!'\n"
     ],
     "language": "python",
     "metadata": {},
     "outputs": [
      {
       "output_type": "stream",
       "stream": "stdout",
       "text": [
        "You've reached some random professor's room. Go away!\n"
       ]
      }
     ],
     "prompt_number": 7
    },
    {
     "cell_type": "heading",
     "level": 3,
     "metadata": {},
     "source": [
      "and, or"
     ]
    },
    {
     "cell_type": "markdown",
     "metadata": {},
     "source": [
      "There are many cases where we want to check two conditions (or more) before we execute a statement. An example might be if we want to print some code only when a water level is too high *AND* some flood gates are closed. E.g."
     ]
    },
    {
     "cell_type": "code",
     "collapsed": false,
     "input": [
      "water_level = 5.0 # current water level reading of 5m\n",
      "flood_gates_closed = False # our flood gates are closed\n",
      "\n",
      "if water_level >= 5.0 and flood_gates_closed:\n",
      "    print 'Action required to reduce river level.'\n",
      "else:\n",
      "    print 'No action required.'"
     ],
     "language": "python",
     "metadata": {},
     "outputs": [
      {
       "output_type": "stream",
       "stream": "stdout",
       "text": [
        "No action required.\n"
       ]
      }
     ],
     "prompt_number": 8
    },
    {
     "cell_type": "markdown",
     "metadata": {},
     "source": [
      "But what if we have a situation when we want to execute some code when only one of the expressions is true? We use *or*. E.g."
     ]
    },
    {
     "cell_type": "code",
     "collapsed": false,
     "input": [
      "percentage = 40\n",
      "attendance = True\n",
      "\n",
      "if percentage < 40 or attendance == False:\n",
      "    print 'Unfortunately you have failed.'\n",
      "else:\n",
      "    print 'You\\'ve passed!'"
     ],
     "language": "python",
     "metadata": {},
     "outputs": [
      {
       "output_type": "stream",
       "stream": "stdout",
       "text": [
        "You've passed!\n"
       ]
      }
     ],
     "prompt_number": 9
    },
    {
     "cell_type": "heading",
     "level": 3,
     "metadata": {},
     "source": [
      "if/else/elif"
     ]
    },
    {
     "cell_type": "markdown",
     "metadata": {},
     "source": [
      "We can expand the previous if/else statement to include other conditions. For example, consider a scenario where we want to check if a value lies in one of several ranges. These could be $x<0$, $x = 0$ and $x>0$"
     ]
    },
    {
     "cell_type": "code",
     "collapsed": false,
     "input": [
      "x = 0.0\n",
      "if x < 0.0:\n",
      "    print 'x is less than zero'\n",
      "elif x > 0.0: # you can read 'elif' as 'else if'\n",
      "    print 'x is greater than zero'\n",
      "else: \n",
      "    print 'x must be zero'"
     ],
     "language": "python",
     "metadata": {},
     "outputs": [
      {
       "output_type": "stream",
       "stream": "stdout",
       "text": [
        "x must be zero\n"
       ]
      }
     ],
     "prompt_number": 10
    },
    {
     "cell_type": "markdown",
     "metadata": {},
     "source": [
      "We can include several elif statements if necessary:"
     ]
    },
    {
     "cell_type": "code",
     "collapsed": false,
     "input": [
      "body_mass_i = 19.0 # body mass index \n",
      "\n",
      "if body_mass_i < 18.5:\n",
      "    print 'Underweight'\n",
      "elif body_mass_i >= 18.5 and body_mass_i < 25.0:\n",
      "    print 'Normal weight'\n",
      "elif body_mass_i >= 25.0 and body_mass_i < 30.0:\n",
      "    print 'Overweight'\n",
      "else:\n",
      "    print 'Obese'"
     ],
     "language": "python",
     "metadata": {},
     "outputs": [
      {
       "output_type": "stream",
       "stream": "stdout",
       "text": [
        "Normal weight\n"
       ]
      }
     ],
     "prompt_number": 11
    },
    {
     "cell_type": "heading",
     "level": 2,
     "metadata": {},
     "source": [
      "Loops"
     ]
    },
    {
     "cell_type": "markdown",
     "metadata": {},
     "source": [
      "One of the most powerful aspects of computer programs is their ability to perform the same task multiple times. The language feature which allows us to do this is the *loop*"
     ]
    },
    {
     "cell_type": "heading",
     "level": 3,
     "metadata": {},
     "source": [
      "The *for* loop"
     ]
    },
    {
     "cell_type": "markdown",
     "metadata": {},
     "source": [
      "The for loop allows us to iterate over a range of values. It is often used with the standard *range* function like so:"
     ]
    },
    {
     "cell_type": "code",
     "collapsed": false,
     "input": [
      "for i in range(0,10):\n",
      "    print i"
     ],
     "language": "python",
     "metadata": {},
     "outputs": [
      {
       "output_type": "stream",
       "stream": "stdout",
       "text": [
        "0\n",
        "1\n",
        "2\n",
        "3\n",
        "4\n",
        "5\n",
        "6\n",
        "7\n",
        "8\n",
        "9\n"
       ]
      }
     ],
     "prompt_number": 12
    },
    {
     "cell_type": "markdown",
     "metadata": {},
     "source": [
      "Note how the counter begins at zero and ends with the integer 9. In total 10 integers are printed."
     ]
    },
    {
     "cell_type": "markdown",
     "metadata": {},
     "source": [
      "We are free to choose the lower and upper values of the range function. But the values must be *integers*"
     ]
    },
    {
     "cell_type": "code",
     "collapsed": false,
     "input": [
      "for x in range(-4, 4):\n",
      "    print x"
     ],
     "language": "python",
     "metadata": {},
     "outputs": [
      {
       "output_type": "stream",
       "stream": "stdout",
       "text": [
        "-4\n",
        "-3\n",
        "-2\n",
        "-1\n",
        "0\n",
        "1\n",
        "2\n",
        "3\n"
       ]
      }
     ],
     "prompt_number": 13
    },
    {
     "cell_type": "markdown",
     "metadata": {},
     "source": [
      "Jumping ahead a little, we can loop over a *list* (lists will be defined more fully in lecture 3)"
     ]
    },
    {
     "cell_type": "code",
     "collapsed": false,
     "input": [
      "my_list = [1,3,5,7,9]\n",
      "fav_foods = ['ice cream', 'butter', 'pies']\n",
      "\n",
      "for x in my_list:\n",
      "    print x\n",
      "\n",
      "for f in fav_foods:\n",
      "    print f"
     ],
     "language": "python",
     "metadata": {},
     "outputs": [
      {
       "output_type": "stream",
       "stream": "stdout",
       "text": [
        "1\n",
        "3\n",
        "5\n",
        "7\n",
        "9\n",
        "ice cream\n",
        "butter\n",
        "pies\n"
       ]
      }
     ],
     "prompt_number": 14
    },
    {
     "cell_type": "markdown",
     "metadata": {},
     "source": [
      "If we wanted to compute, for example, the square of all numbers between 1 and 10, we could write the following:"
     ]
    },
    {
     "cell_type": "code",
     "collapsed": false,
     "input": [
      "for x in range(1,11): # note that the upper range is 11, not 10\n",
      "    square = x**2\n",
      "    print square"
     ],
     "language": "python",
     "metadata": {},
     "outputs": [
      {
       "output_type": "stream",
       "stream": "stdout",
       "text": [
        "1\n",
        "4\n",
        "9\n",
        "16\n",
        "25\n",
        "36\n",
        "49\n",
        "64\n",
        "81\n",
        "100\n"
       ]
      }
     ],
     "prompt_number": 15
    },
    {
     "cell_type": "heading",
     "level": 3,
     "metadata": {},
     "source": [
      "While loop"
     ]
    },
    {
     "cell_type": "markdown",
     "metadata": {},
     "source": [
      "The while loop is slightly different from the for loop in the sense that it will continue to loop until some condition is satisfied. A basic while loop might look like the following:"
     ]
    },
    {
     "cell_type": "code",
     "collapsed": false,
     "input": [
      "x = 0\n",
      "while x < 10:\n",
      "    print x\n",
      "    x += 1 # if we didn't include this line the code would run for an infinitely long time!"
     ],
     "language": "python",
     "metadata": {},
     "outputs": [
      {
       "output_type": "stream",
       "stream": "stdout",
       "text": [
        "0\n",
        "1\n",
        "2\n",
        "3\n",
        "4\n",
        "5\n",
        "6\n",
        "7\n",
        "8\n",
        "9\n"
       ]
      }
     ],
     "prompt_number": 16
    },
    {
     "cell_type": "markdown",
     "metadata": {},
     "source": [
      "A common way to use the while loop is to force the loop to run and then do a check within the loop to work out when to stop. We can exit the loop using the *break* statement. For example:"
     ]
    },
    {
     "cell_type": "code",
     "collapsed": false,
     "input": [
      "number_students = 103\n",
      "\n",
      "while True:\n",
      "    number_students -= 10 # let's remove 10 students from the class on every loop\n",
      "    if number_students < 30: # if we're less than 30 students, stop\n",
      "        break\n",
      "        \n",
      "print 'We\\'re left with %s students' % number_students"
     ],
     "language": "python",
     "metadata": {},
     "outputs": [
      {
       "output_type": "stream",
       "stream": "stdout",
       "text": [
        "We're left with 23 students\n"
       ]
      }
     ],
     "prompt_number": 17
    },
    {
     "cell_type": "heading",
     "level": 2,
     "metadata": {},
     "source": [
      "Functions"
     ]
    },
    {
     "cell_type": "markdown",
     "metadata": {},
     "source": [
      "Functions are arguably one of the most important aspects of computer programming. If you find yourself in a situation where you are writing the same code several times, it is almost always a good idea to put that code into a function. Functions are also a good way of organising your code. Let's look at a scenario where the use of a function is a good idea. Let's say we have a mathematical function $f(x) = x^2 -3x + 4$ and we want to compute this for three values $x_1 = 3.5, x_2 = 2.3, x_3 = 3.4$. Let's try this:"
     ]
    },
    {
     "cell_type": "code",
     "collapsed": false,
     "input": [
      "x1 = 3.5\n",
      "x2 = 2.3\n",
      "x3 = 3.4\n",
      "\n",
      "fx1 = x1**2 - 3.0 * x1 + 4.0\n",
      "fx2 = x2**2 - 3.0 * x2 + 4.0\n",
      "fx3 = x3**2 - 3.0 * x3 + 4.0\n",
      "\n",
      "print fx1\n",
      "print fx2\n",
      "print fx3"
     ],
     "language": "python",
     "metadata": {},
     "outputs": [
      {
       "output_type": "stream",
       "stream": "stdout",
       "text": [
        "5.75\n",
        "2.39\n",
        "5.36\n"
       ]
      }
     ],
     "prompt_number": 18
    },
    {
     "cell_type": "markdown",
     "metadata": {},
     "source": [
      "This is rather clumsy since we are repeating the same code three times. Let's define a function that makes our live easier."
     ]
    },
    {
     "cell_type": "code",
     "collapsed": false,
     "input": [
      "def myfunc(x): # this is a function which we have defined. \n",
      "    return x**2 - 3.0 * x + 4.0 # notice the return statement to return the output\n",
      "\n",
      "x1 = 3.5\n",
      "x2 = 2.3\n",
      "x3 = 3.4\n",
      "\n",
      "fx1 = myfunc(x1)\n",
      "fx2 = myfunc(x2)\n",
      "fx3 = myfunc(x3)\n",
      "\n",
      "print fx1\n",
      "print fx2\n",
      "print fx3"
     ],
     "language": "python",
     "metadata": {},
     "outputs": [
      {
       "output_type": "stream",
       "stream": "stdout",
       "text": [
        "5.75\n",
        "2.39\n",
        "5.36\n"
       ]
      }
     ],
     "prompt_number": 19
    },
    {
     "cell_type": "markdown",
     "metadata": {},
     "source": [
      "You can interpret a function as something that takes some input, performs some work on the input and then returns an output."
     ]
    },
    {
     "cell_type": "markdown",
     "metadata": {},
     "source": [
      "Functions can work with any type of data. For example, here is a function that works with strings"
     ]
    },
    {
     "cell_type": "code",
     "collapsed": false,
     "input": [
      "def add_string(s):\n",
      "    return s + ' she said.'\n",
      "\n",
      "text = 'Who designed these beams,'\n",
      "full_text = add_string(text)\n",
      "print full_text"
     ],
     "language": "python",
     "metadata": {},
     "outputs": [
      {
       "output_type": "stream",
       "stream": "stdout",
       "text": [
        "Who designed these beams, she said.\n"
       ]
      }
     ],
     "prompt_number": 20
    },
    {
     "cell_type": "heading",
     "level": 3,
     "metadata": {},
     "source": [
      "Multiple input arguments"
     ]
    },
    {
     "cell_type": "markdown",
     "metadata": {},
     "source": [
      "We can include multiple arguments as input to a function. For example, consider a function to calculate the maximum bending moment of a beam:"
     ]
    },
    {
     "cell_type": "code",
     "collapsed": false,
     "input": [
      "def max_bm(L, w):\n",
      "    return w * L**2 / 8.0\n",
      "\n",
      "bm_1 = max_bm(1.0, 1.0)\n",
      "print 'Max. bending moment of beam 1 = %s kNm' % bm_1\n",
      "bm_2 = max_bm(2.0, 3.0)\n",
      "print 'Max. bending moment of beam 2 = %s kNm' % bm_2"
     ],
     "language": "python",
     "metadata": {},
     "outputs": [
      {
       "output_type": "stream",
       "stream": "stdout",
       "text": [
        "Max. bending moment of beam 1 = 0.125 kNm\n",
        "Max. bending moment of beam 2 = 1.5 kNm\n"
       ]
      }
     ],
     "prompt_number": 21
    },
    {
     "cell_type": "heading",
     "level": 3,
     "metadata": {},
     "source": [
      "Example 1"
     ]
    },
    {
     "cell_type": "markdown",
     "metadata": {},
     "source": [
      "Write a function that computes the factorial function i.e. $5! = 5 \\times 4 \\times 3 \\times 2 \\times 1$"
     ]
    },
    {
     "cell_type": "markdown",
     "metadata": {},
     "source": [
      "For this, it makes sense to use a loop within the function."
     ]
    },
    {
     "cell_type": "code",
     "collapsed": false,
     "input": [
      "def factorial(n):\n",
      "    result = 1\n",
      "    for x in range(1,n+1): # note that we put n here we would miss out the largest integer\n",
      "        result *= x\n",
      "    return result\n",
      "\n",
      "f1 = factorial(3)\n",
      "f2 = factorial(5)\n",
      "\n",
      "print f1, f2"
     ],
     "language": "python",
     "metadata": {},
     "outputs": [
      {
       "output_type": "stream",
       "stream": "stdout",
       "text": [
        "6 120\n"
       ]
      }
     ],
     "prompt_number": 22
    },
    {
     "cell_type": "heading",
     "level": 3,
     "metadata": {},
     "source": [
      "Example 2"
     ]
    },
    {
     "cell_type": "markdown",
     "metadata": {},
     "source": [
      "Write a function that takes a number corresponding to body mass index and return the correct weight type."
     ]
    },
    {
     "cell_type": "code",
     "collapsed": false,
     "input": [
      "def bmi_type(val):\n",
      "    if val < 18.5:\n",
      "        return 'Underweight'\n",
      "    elif val >= 18.5 and val < 25.0:\n",
      "        return 'Normal weight'\n",
      "    elif val >= 25.0 and val < 30.0:\n",
      "        return 'Overweight'\n",
      "    else:\n",
      "        return 'Obese'\n",
      "\n",
      "person1 = bmi_type(25.3)\n",
      "person2 = bmi_type(19.2)\n",
      "\n",
      "print 'Person1 is %s' % person1\n",
      "print 'Person2 is %s' % person2"
     ],
     "language": "python",
     "metadata": {},
     "outputs": [
      {
       "output_type": "stream",
       "stream": "stdout",
       "text": [
        "Person1 is Overweight\n",
        "Person2 is Normal weight\n"
       ]
      }
     ],
     "prompt_number": 23
    },
    {
     "cell_type": "heading",
     "level": 2,
     "metadata": {},
     "source": [
      "Built-in functions"
     ]
    },
    {
     "cell_type": "markdown",
     "metadata": {},
     "source": [
      "The Python library has a number of built-in functions that may come in handy. Built-in function we have been using so far include the *print()* function and *xrange()*. Others include:"
     ]
    },
    {
     "cell_type": "heading",
     "level": 3,
     "metadata": {},
     "source": [
      "abs()"
     ]
    },
    {
     "cell_type": "markdown",
     "metadata": {},
     "source": [
      "This determines the *absolute* value of a function. i.e. Given a value $x$, it computes $|x|$"
     ]
    },
    {
     "cell_type": "code",
     "collapsed": false,
     "input": [
      "x = 23\n",
      "y = -99\n",
      "print abs(x), abs(y)"
     ],
     "language": "python",
     "metadata": {},
     "outputs": [
      {
       "output_type": "stream",
       "stream": "stdout",
       "text": [
        "23 99\n"
       ]
      }
     ],
     "prompt_number": 24
    },
    {
     "cell_type": "heading",
     "level": 3,
     "metadata": {},
     "source": [
      "str()"
     ]
    },
    {
     "cell_type": "markdown",
     "metadata": {},
     "source": [
      "This turns an object into a string. This could be used like so:"
     ]
    },
    {
     "cell_type": "code",
     "collapsed": false,
     "input": [
      "n = 5\n",
      "text = 'There are ' + str(n) + ' penguins outside'\n",
      "print text"
     ],
     "language": "python",
     "metadata": {},
     "outputs": [
      {
       "output_type": "stream",
       "stream": "stdout",
       "text": [
        "There are 5 penguins outside\n"
       ]
      }
     ],
     "prompt_number": 25
    },
    {
     "cell_type": "heading",
     "level": 3,
     "metadata": {},
     "source": [
      "int()"
     ]
    },
    {
     "cell_type": "markdown",
     "metadata": {},
     "source": [
      "This will convert an object into an integer. E.g."
     ]
    },
    {
     "cell_type": "code",
     "collapsed": false,
     "input": [
      "text_number = '5'\n",
      "total = 3 + int(text_number)\n",
      "print total"
     ],
     "language": "python",
     "metadata": {},
     "outputs": [
      {
       "output_type": "stream",
       "stream": "stdout",
       "text": [
        "8\n"
       ]
      }
     ],
     "prompt_number": 1
    },
    {
     "cell_type": "heading",
     "level": 2,
     "metadata": {},
     "source": [
      "Functions from the math library"
     ]
    },
    {
     "cell_type": "markdown",
     "metadata": {},
     "source": [
      "In one of the exercises in last week's lab you were asked to compute the factorial of certain numbers (e.g. $n!$). You will find that you commonly require such mathematical functions in your code. Common examples include $e^x$, $\\sin x$, $\\log x$, $\\sqrt{x}$. See here for the full set of available functions in the math library https://docs.python.org/2/library/math.html"
     ]
    },
    {
     "cell_type": "markdown",
     "metadata": {},
     "source": [
      "To use functions from the math library  we must first 'import' the library. We can do this as follows:"
     ]
    },
    {
     "cell_type": "code",
     "collapsed": false,
     "input": [
      "import math # import the math library into our code\n",
      "x = math.factorial(5) # and then use it!\n",
      "y = math.sin(0.23)\n",
      "z = math.log(2.345)\n",
      "print x, y, z"
     ],
     "language": "python",
     "metadata": {},
     "outputs": [
      {
       "output_type": "stream",
       "stream": "stdout",
       "text": [
        "120 0.227977523535 0.852285401898\n"
       ]
      }
     ],
     "prompt_number": 3
    },
    {
     "cell_type": "markdown",
     "metadata": {},
     "source": [
      "We can also import only the functions we want from the library as follows:"
     ]
    },
    {
     "cell_type": "code",
     "collapsed": false,
     "input": [
      "from math import cos, tan, sin\n",
      "tol = 1.0e-9 # tolerance\n",
      "x = 0.5\n",
      "mytan = sin(x) / cos(x)\n",
      "print mytan\n",
      "print tan(x)"
     ],
     "language": "python",
     "metadata": {},
     "outputs": [
      {
       "output_type": "stream",
       "stream": "stdout",
       "text": [
        "0.546302489844\n",
        "0.546302489844\n"
       ]
      }
     ],
     "prompt_number": 4
    },
    {
     "cell_type": "heading",
     "level": 3,
     "metadata": {},
     "source": [
      "and many more..."
     ]
    },
    {
     "cell_type": "markdown",
     "metadata": {},
     "source": [
      "There are many other built-in functions which can be found here https://docs.python.org/2/library/functions.html# but for this course we will restrict ourselves to a small set of these."
     ]
    },
    {
     "cell_type": "markdown",
     "metadata": {},
     "source": [
      "We will find that as we continue through the course that there are also many convenient functions that are defined by various *libraries*. These include plotting functions, matrix functions, statistic functions,.... We will cover some of these functions in later lectures."
     ]
    }
   ],
   "metadata": {}
  }
 ]
}