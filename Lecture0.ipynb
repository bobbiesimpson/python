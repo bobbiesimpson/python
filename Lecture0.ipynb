{
 "metadata": {
  "name": "",
  "signature": "sha256:1acfaf26a882996491b82d63205e4ec07e2121dbe528da5ddeb16ca8901f05cc"
 },
 "nbformat": 3,
 "nbformat_minor": 0,
 "worksheets": [
  {
   "cells": [
    {
     "cell_type": "heading",
     "level": 1,
     "metadata": {},
     "source": [
      "Lecture 0: Introduction to Python"
     ]
    },
    {
     "cell_type": "heading",
     "level": 2,
     "metadata": {},
     "source": [
      "The *print* statement"
     ]
    },
    {
     "cell_type": "markdown",
     "metadata": {},
     "source": [
      "Whatever follows the print statement is output to the screen. We do not actually send anything to a printer!"
     ]
    },
    {
     "cell_type": "code",
     "collapsed": false,
     "input": [
      "print 'My very first line of Python programming.'"
     ],
     "language": "python",
     "metadata": {},
     "outputs": []
    },
    {
     "cell_type": "code",
     "collapsed": false,
     "input": [
      "print 5"
     ],
     "language": "python",
     "metadata": {},
     "outputs": []
    },
    {
     "cell_type": "heading",
     "level": 2,
     "metadata": {},
     "source": [
      "Variables"
     ]
    },
    {
     "cell_type": "markdown",
     "metadata": {},
     "source": [
      "Variables are the way in which we store values in a program. As the name implies, their value can change throughout the program. We *assign* a value to a variable using the = sign."
     ]
    },
    {
     "cell_type": "code",
     "collapsed": false,
     "input": [
      "a = 2\n",
      "print a\n",
      "a = 4\n",
      "print a"
     ],
     "language": "python",
     "metadata": {},
     "outputs": []
    },
    {
     "cell_type": "markdown",
     "metadata": {},
     "source": [
      "Let's now work with several variables"
     ]
    },
    {
     "cell_type": "code",
     "collapsed": false,
     "input": [
      "girl_count = 34\n",
      "boy_count = 10\n",
      "total = girl_count + boy_count\n",
      "print total"
     ],
     "language": "python",
     "metadata": {},
     "outputs": []
    },
    {
     "cell_type": "markdown",
     "metadata": {},
     "source": [
      "We can also work with text. In computer programming language, these are called *strings*"
     ]
    },
    {
     "cell_type": "heading",
     "level": 2,
     "metadata": {},
     "source": [
      "Strings"
     ]
    },
    {
     "cell_type": "code",
     "collapsed": false,
     "input": [
      "t = 'This is some text '\n",
      "print t"
     ],
     "language": "python",
     "metadata": {},
     "outputs": []
    },
    {
     "cell_type": "code",
     "collapsed": false,
     "input": [
      "text1 = 'I believe I have something important to say '\n",
      "text2 = 'but I\\'m not quite sure what.'\n",
      "total_text = text1 + text2\n",
      "print total_text"
     ],
     "language": "python",
     "metadata": {},
     "outputs": []
    },
    {
     "cell_type": "markdown",
     "metadata": {},
     "source": [
      "Notice how we had to use the *escape* sequence $\\backslash$' to show the apostrophe correctly"
     ]
    },
    {
     "cell_type": "heading",
     "level": 3,
     "metadata": {},
     "source": [
      "Formatting print statements with variables"
     ]
    },
    {
     "cell_type": "markdown",
     "metadata": {},
     "source": [
      "We may wish to format our print statement. E.g."
     ]
    },
    {
     "cell_type": "code",
     "collapsed": false,
     "input": [
      "n = 52\n",
      "print 'I have %s lollipops' % n"
     ],
     "language": "python",
     "metadata": {},
     "outputs": []
    },
    {
     "cell_type": "markdown",
     "metadata": {},
     "source": [
      "The %s can be read as 'insert a string here whose value is given by the variable n'."
     ]
    },
    {
     "cell_type": "markdown",
     "metadata": {},
     "source": [
      "We can also insert multiple variables into our print statement:"
     ]
    },
    {
     "cell_type": "code",
     "collapsed": false,
     "input": [
      "b = 12\n",
      "w = 15\n",
      "print 'Breadth = %s and width = %s' % (b,w)"
     ],
     "language": "python",
     "metadata": {},
     "outputs": []
    },
    {
     "cell_type": "heading",
     "level": 2,
     "metadata": {},
     "source": [
      "Comments"
     ]
    },
    {
     "cell_type": "markdown",
     "metadata": {},
     "source": [
      "To help others understand your code, it is a good idea to use comments. But don't overdo it. We signify a comment using the # symbol. Anything after the # symbol is not considered Python code and will be ignored."
     ]
    },
    {
     "cell_type": "code",
     "collapsed": false,
     "input": [
      "n_b = 5 # number of beams\n",
      "n_c = 12 # number of columns\n",
      "total = n_b + n_c\n",
      "print total"
     ],
     "language": "python",
     "metadata": {},
     "outputs": []
    },
    {
     "cell_type": "heading",
     "level": 2,
     "metadata": {},
     "source": [
      "Integers"
     ]
    },
    {
     "cell_type": "markdown",
     "metadata": {},
     "source": [
      "Integers represent whole numbers. As such, they can be either positive or negative."
     ]
    },
    {
     "cell_type": "code",
     "collapsed": false,
     "input": [
      "x = -234\n",
      "y = 234\n",
      "z = x + y\n",
      "print z"
     ],
     "language": "python",
     "metadata": {},
     "outputs": []
    },
    {
     "cell_type": "heading",
     "level": 3,
     "metadata": {},
     "source": [
      "Addition, subtraction, division, multiplication and remainder operators"
     ]
    },
    {
     "cell_type": "markdown",
     "metadata": {},
     "source": [
      "Addition and subtraction work straightforwardly:"
     ]
    },
    {
     "cell_type": "code",
     "collapsed": false,
     "input": [
      "a = 1\n",
      "b = 2\n",
      "c = 3\n",
      "d = a + b - c\n",
      "print d"
     ],
     "language": "python",
     "metadata": {},
     "outputs": []
    },
    {
     "cell_type": "markdown",
     "metadata": {},
     "source": [
      "Multiplication also behaves as expected:"
     ]
    },
    {
     "cell_type": "code",
     "collapsed": false,
     "input": [
      "s_per_row = 12 # number of students per row\n",
      "n_row = 30 # number of rows\n",
      "total_s = s_per_row * n_row\n",
      "print total_s"
     ],
     "language": "python",
     "metadata": {},
     "outputs": []
    },
    {
     "cell_type": "markdown",
     "metadata": {},
     "source": [
      "Division is slightly peculiar:"
     ]
    },
    {
     "cell_type": "code",
     "collapsed": false,
     "input": [
      "n = 10\n",
      "d = 2\n",
      "result = n / d \n",
      "print result # ok, this works\n",
      "\n",
      "n = 10\n",
      "d = 3\n",
      "result = n / d\n",
      "print result # eh?!"
     ],
     "language": "python",
     "metadata": {},
     "outputs": []
    },
    {
     "cell_type": "markdown",
     "metadata": {},
     "source": [
      "We need to understand than when we divide integers and there is a remainder, *we round down*."
     ]
    },
    {
     "cell_type": "code",
     "collapsed": false,
     "input": [
      "n = 11\n",
      "d = 5\n",
      "result = n / d \n",
      "print result # ok, the result is 2 with a remainder of 1. Division should give us an answer of 2."
     ],
     "language": "python",
     "metadata": {},
     "outputs": []
    },
    {
     "cell_type": "markdown",
     "metadata": {},
     "source": [
      "But how do we get the remainder? Using the *modulo* operator **%**"
     ]
    },
    {
     "cell_type": "code",
     "collapsed": false,
     "input": [
      "n = 11\n",
      "d = 5\n",
      "remainder = n % d\n",
      "print remainder"
     ],
     "language": "python",
     "metadata": {},
     "outputs": []
    },
    {
     "cell_type": "heading",
     "level": 2,
     "metadata": {},
     "source": [
      "Floating point numbers"
     ]
    },
    {
     "cell_type": "markdown",
     "metadata": {},
     "source": [
      "These represent *real* numbers. Addition, subtraction, multiplication and division all work as expected."
     ]
    },
    {
     "cell_type": "code",
     "collapsed": false,
     "input": [
      "pi = 3.14 # approximate value of pi\n",
      "radius = 2.123\n",
      "area = pi * radius * radius\n",
      "print 'The area of our circle is %s' % area"
     ],
     "language": "python",
     "metadata": {},
     "outputs": []
    },
    {
     "cell_type": "code",
     "collapsed": false,
     "input": [
      "L = 2.5 # length of beam (m)\n",
      "w = 5.0 # u.d.l. (kN/m)\n",
      "max_bm = w * L * L / 8.0\n",
      "print 'Maximum bending moment is %s kNm' % max_bm"
     ],
     "language": "python",
     "metadata": {},
     "outputs": []
    },
    {
     "cell_type": "heading",
     "level": 3,
     "metadata": {},
     "source": [
      "The power operator"
     ]
    },
    {
     "cell_type": "markdown",
     "metadata": {},
     "source": [
      "What if we want to raise a number to a power. For example, what is $3^3$? We do it as follows:"
     ]
    },
    {
     "cell_type": "code",
     "collapsed": false,
     "input": [
      "x = 3**2\n",
      "print '3 squared = %s' % x"
     ],
     "language": "python",
     "metadata": {},
     "outputs": []
    },
    {
     "cell_type": "markdown",
     "metadata": {},
     "source": [
      "This will also work with floating point numbers"
     ]
    },
    {
     "cell_type": "code",
     "collapsed": false,
     "input": [
      "pi = 3.14\n",
      "r = 2.0\n",
      "area = pi * r**2\n",
      "print 'area of circle with radius %s equals %s' % (r,area)"
     ],
     "language": "python",
     "metadata": {},
     "outputs": []
    },
    {
     "cell_type": "heading",
     "level": 3,
     "metadata": {},
     "source": [
      "Assignment operators"
     ]
    },
    {
     "cell_type": "markdown",
     "metadata": {},
     "source": [
      "These are not stricly necessary, but sometimes these can make your life a little easier and make you code more succinct."
     ]
    },
    {
     "cell_type": "markdown",
     "metadata": {},
     "source": [
      "Common assignment operators include: +=, -=, *= and /=. For example:"
     ]
    },
    {
     "cell_type": "code",
     "collapsed": false,
     "input": [
      "cement = 12\n",
      "cement += 5\n",
      "print 'We have %s kg of cemement' % cement\n",
      "cement -= 7\n",
      "print 'We now have %s kg of cemement' % cement"
     ],
     "language": "python",
     "metadata": {},
     "outputs": []
    },
    {
     "cell_type": "markdown",
     "metadata": {},
     "source": [
      "And similarly, "
     ]
    },
    {
     "cell_type": "code",
     "collapsed": false,
     "input": [
      "beam_n = 3 # number of beams\n",
      "beam_n *= 4\n",
      "print 'We have %s beams' % beam_n\n",
      "\n",
      "beam_n /= 2\n",
      "print 'We\\'ve halved the number of beams to %s' % beam_n"
     ],
     "language": "python",
     "metadata": {},
     "outputs": []
    },
    {
     "cell_type": "heading",
     "level": 2,
     "metadata": {},
     "source": [
      "Input"
     ]
    },
    {
     "cell_type": "markdown",
     "metadata": {},
     "source": [
      "Sometimes we wish to obtain values from the user as inputs. We can do this as follows:"
     ]
    },
    {
     "cell_type": "code",
     "collapsed": false,
     "input": [
      "s = raw_input('Please enter text here ---> ')\n",
      "print s"
     ],
     "language": "python",
     "metadata": {},
     "outputs": [
      {
       "name": "stdout",
       "output_type": "stream",
       "stream": "stdout",
       "text": [
        "Please enter text here ---> my text\n"
       ]
      },
      {
       "output_type": "stream",
       "stream": "stdout",
       "text": [
        "my text\n"
       ]
      }
     ],
     "prompt_number": 1
    },
    {
     "cell_type": "markdown",
     "metadata": {},
     "source": [
      "We need to be a bit careful however when we are working with numbers. For example, we might want to obtain an integer as input and attempt to do this as follows:"
     ]
    },
    {
     "cell_type": "code",
     "collapsed": false,
     "input": [
      "myinteger = raw_input('Please enter your integer here --> ')\n",
      "d = myinteger * 2\n",
      "print d"
     ],
     "language": "python",
     "metadata": {},
     "outputs": [
      {
       "name": "stdout",
       "output_type": "stream",
       "stream": "stdout",
       "text": [
        "Please enter your integer here --> 3\n"
       ]
      },
      {
       "output_type": "stream",
       "stream": "stdout",
       "text": [
        "33\n"
       ]
      }
     ],
     "prompt_number": 2
    },
    {
     "cell_type": "heading",
     "level": 3,
     "metadata": {},
     "source": [
      "Integers as input"
     ]
    },
    {
     "cell_type": "markdown",
     "metadata": {},
     "source": [
      "What you must understand is that the raw_input() function turns all input into strings. To convert the input into an integer, the solution is simple: we use a function called int() that converts the string to an integer."
     ]
    },
    {
     "cell_type": "code",
     "collapsed": false,
     "input": [
      "myinteger = raw_input('Let\\'s now do it correctly --> ')\n",
      "mycorrectint = int(myinteger)\n",
      "d = mycorrectint * 2\n",
      "print d"
     ],
     "language": "python",
     "metadata": {},
     "outputs": [
      {
       "name": "stdout",
       "output_type": "stream",
       "stream": "stdout",
       "text": [
        "Let's now do it correctly --> 3\n"
       ]
      },
      {
       "output_type": "stream",
       "stream": "stdout",
       "text": [
        "6\n"
       ]
      }
     ],
     "prompt_number": 3
    },
    {
     "cell_type": "heading",
     "level": 3,
     "metadata": {},
     "source": [
      "Floats as input"
     ]
    },
    {
     "cell_type": "markdown",
     "metadata": {},
     "source": [
      "We can also get floating point numbers in a very similar way using the float() function:"
     ]
    },
    {
     "cell_type": "code",
     "collapsed": false,
     "input": [
      "data = raw_input('Enter your floating point number --> ')\n",
      "myfloat = float(data)\n",
      "x = myfloat * 2\n",
      "print x"
     ],
     "language": "python",
     "metadata": {},
     "outputs": [
      {
       "name": "stdout",
       "output_type": "stream",
       "stream": "stdout",
       "text": [
        "Enter your floating point number --> 2\n"
       ]
      },
      {
       "output_type": "stream",
       "stream": "stdout",
       "text": [
        "4.0\n"
       ]
      }
     ]
    },
    {
     "cell_type": "markdown",
     "metadata": {},
     "source": [
      "If you want to make your code a bit more concise this can also be written as:"
     ]
    },
    {
     "cell_type": "code",
     "collapsed": false,
     "input": [
      "myfloat = float(raw_input('Enter your floating point number --> '))\n",
      "x = myfloat * 2\n",
      "print x"
     ],
     "language": "python",
     "metadata": {},
     "outputs": []
    },
    {
     "cell_type": "heading",
     "level": 2,
     "metadata": {},
     "source": [
      "Example"
     ]
    },
    {
     "cell_type": "markdown",
     "metadata": {},
     "source": [
      "We want to create a program that computes the maximum bending moment, shear force and bending stress in a simply supported beam . The user can specify the length, and imposed u.d.l. . "
     ]
    },
    {
     "cell_type": "markdown",
     "metadata": {},
     "source": [
      "**Knowns:** $L$ (length), $w$ (u.d.l.)"
     ]
    },
    {
     "cell_type": "markdown",
     "metadata": {},
     "source": [
      "**Unknowns:** $M_{max}$ (max. bending moment), $Q_{max}$ (max. shear force)"
     ]
    },
    {
     "cell_type": "markdown",
     "metadata": {},
     "source": [
      "We remember the following formulae: $M_{max} = \\frac{wL^2}{8}$, $Q_{max} = \\frac{wL}{2}$"
     ]
    },
    {
     "cell_type": "code",
     "collapsed": false,
     "input": [
      "L = float(raw_input('Please enter length (m) --> '))\n",
      "w = float(raw_input('Please enter u.d.l. (kNm) --> '))\n",
      "\n",
      "m_max = w * L**2 / 8.0\n",
      "q_max = w * L / 2.0\n",
      "\n",
      "print 'Our beam has a max. bending moment of %s kNm and shear force of %s kN' % (m_max, q_max)"
     ],
     "language": "python",
     "metadata": {},
     "outputs": [
      {
       "name": "stdout",
       "output_type": "stream",
       "stream": "stdout",
       "text": [
        "Please enter length (m) --> 23.4\n"
       ]
      },
      {
       "name": "stdout",
       "output_type": "stream",
       "stream": "stdout",
       "text": [
        "Please enter u.d.l. (kNm) --> 12.3\n"
       ]
      },
      {
       "output_type": "stream",
       "stream": "stdout",
       "text": [
        "Our beam has a max. bending moment of 841.8735 kNm and shear force of 143.91 kN\n"
       ]
      }
     ],
     "prompt_number": 3
    }
   ],
   "metadata": {}
  }
 ]
}